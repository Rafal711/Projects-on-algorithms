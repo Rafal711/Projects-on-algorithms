{
 "cells": [
  {
   "cell_type": "markdown",
   "metadata": {},
   "source": [
    "# ConvNet 1"
   ]
  },
  {
   "cell_type": "code",
   "execution_count": 1,
   "metadata": {},
   "outputs": [],
   "source": [
    "import matplotlib\n",
    "import numpy as np\n",
    "import matplotlib.pyplot as plt\n",
    "from tensorflow import keras\n",
    "import keras"
   ]
  },
  {
   "cell_type": "markdown",
   "metadata": {},
   "source": [
    "## Part 1 Let's start with Convnet - Mnist dataset\n",
    "\n",
    "We will use Convnet layers to classify MNIST digits, a task that you have analysed using a densely-connected network (test accuracy was 97.8%). "
   ]
  },
  {
   "cell_type": "markdown",
   "metadata": {},
   "source": [
    "### Dataset\n",
    "\n",
    "Please reuse the code from the second exercise, which has already covered the MNIST database.\n",
    "Change the shape of the training testing images to tensor (60000, 28, 28, 1) and (10000, 28, 28, 1)). "
   ]
  },
  {
   "cell_type": "code",
   "execution_count": 2,
   "metadata": {},
   "outputs": [
    {
     "name": "stdout",
     "output_type": "stream",
     "text": [
      "Number of training examples: 60000\n",
      "Number of testing examples: 10000\n",
      "Number of train labels: 60000\n",
      "Number of test labels: 10000\n"
     ]
    }
   ],
   "source": [
    "from keras.datasets import mnist\n",
    "(train_images, train_labels), (test_images, test_labels) = mnist.load_data()\n",
    "\n",
    "print(\"Number of training examples:\", train_images.shape[0])\n",
    "print(\"Number of testing examples:\", test_images.shape[0])\n",
    "\n",
    "print(\"Number of train labels:\", train_labels.shape[0])\n",
    "print(\"Number of test labels:\", test_labels.shape[0])"
   ]
  },
  {
   "cell_type": "code",
   "execution_count": 3,
   "metadata": {},
   "outputs": [
    {
     "name": "stdout",
     "output_type": "stream",
     "text": [
      "Training set image size: (28, 28)\n",
      "Testing set image size: (28, 28)\n"
     ]
    }
   ],
   "source": [
    "print(\"Training set image size:\", train_images.shape[1:])\n",
    "print(\"Testing set image size:\", test_images.shape[1:])"
   ]
  },
  {
   "cell_type": "markdown",
   "metadata": {},
   "source": [
    "### Data preparation"
   ]
  },
  {
   "cell_type": "code",
   "execution_count": 4,
   "metadata": {},
   "outputs": [
    {
     "name": "stdout",
     "output_type": "stream",
     "text": [
      "train_images_p shape: (60000, 28, 28, 1)\n",
      "min and max value: 0.0 1.0\n"
     ]
    }
   ],
   "source": [
    "train_images_p = train_images.reshape(60000, 28, 28, 1).astype(\"float32\")\n",
    "print(\"train_images_p shape:\", train_images_p.shape)\n",
    "train_images_p = train_images_p / 255\n",
    "print(\"min and max value:\", np.min(train_images_p), np.max(train_images_p))"
   ]
  },
  {
   "cell_type": "code",
   "execution_count": 5,
   "metadata": {},
   "outputs": [
    {
     "name": "stdout",
     "output_type": "stream",
     "text": [
      "train_images_p shape: (10000, 28, 28, 1)\n",
      "min and max value: 0.0 1.0\n"
     ]
    }
   ],
   "source": [
    "test_images_p = test_images.reshape(10000, 28, 28, 1).astype(\"float32\")\n",
    "print(\"train_images_p shape:\", test_images_p.shape)\n",
    "test_images_p = test_images_p / 255\n",
    "print(\"min and max value:\", np.min(train_images_p), np.max(train_images_p))"
   ]
  },
  {
   "cell_type": "code",
   "execution_count": 6,
   "metadata": {},
   "outputs": [],
   "source": [
    "from keras.utils import to_categorical\n",
    "\n",
    "train_labels = to_categorical(train_labels)\n",
    "test_labels = to_categorical(test_labels)"
   ]
  },
  {
   "cell_type": "markdown",
   "metadata": {},
   "source": [
    "### Convnet architecture\n",
    "\n",
    " A basic convnet architecture is a a stack of Conv2D and MaxPooling2D layers followed by the classification part.\n",
    "\n",
    "A convnet takes as input tensors of shape (image_height, image_width, image_channels) (not including the batch dimension). In our case, we will configure our convnet to process inputs of size (28, 28, 1), which is the format of MNIST images.\n",
    "\n",
    "* Pass the argument input_shape=(28, 28, 1) to our first layer\n",
    "* Number of channels is controlled by the first argument passed to each Conv2D layer (here 32 or 64).\n",
    "* The filters should have size 3×3.\n",
    "\n",
    "Layers:"
   ]
  },
  {
   "cell_type": "code",
   "execution_count": 7,
   "metadata": {},
   "outputs": [],
   "source": [
    "from keras import models\n",
    "from keras import layers\n",
    "\n",
    "image_height, image_width, image_channels = 28, 28, 1\n",
    "\n",
    "filterSizeConv2D = 3, 3\n",
    "filterSizePooling2D = 2, 2\n",
    "number_of_channels = 32, 64, 64\n",
    "\n",
    "model = models.Sequential()\n",
    "model.add(layers.Conv2D(\n",
    "    number_of_channels[0],\n",
    "    (filterSizeConv2D[0],\n",
    "     filterSizeConv2D[1]),\n",
    "     activation='relu',\n",
    "     input_shape=(image_height, image_width, image_channels)))\n",
    "model.add(layers.MaxPooling2D((filterSizePooling2D[0], filterSizePooling2D[1])))\n",
    "model.add(layers.Conv2D(\n",
    "    number_of_channels[1],\n",
    "    (filterSizeConv2D[0],\n",
    "     filterSizeConv2D[1]),\n",
    "     activation='relu',\n",
    "     input_shape=(image_height, image_width, image_channels)))\n",
    "model.add(layers.MaxPooling2D((filterSizePooling2D[0], filterSizePooling2D[1])))\n",
    "model.add(layers.Conv2D(\n",
    "    number_of_channels[2],\n",
    "    (filterSizeConv2D[0],\n",
    "     filterSizeConv2D[1]),\n",
    "     activation='relu',\n",
    "     input_shape=(image_height, image_width, image_channels)))"
   ]
  },
  {
   "cell_type": "markdown",
   "metadata": {},
   "source": [
    "Please implement a ConvNet architecture consisting of 3 Conv2d layers with nb. of channels: 32→64→64. Between the Conv2d should be a MaxPolling2D layer with filter:size 2×2.\n",
    "\n",
    "Display the architecture:"
   ]
  },
  {
   "cell_type": "code",
   "execution_count": 8,
   "metadata": {},
   "outputs": [
    {
     "name": "stdout",
     "output_type": "stream",
     "text": [
      "Model: \"sequential\"\n",
      "_________________________________________________________________\n",
      " Layer (type)                Output Shape              Param #   \n",
      "=================================================================\n",
      " conv2d (Conv2D)             (None, 26, 26, 32)        320       \n",
      "                                                                 \n",
      " max_pooling2d (MaxPooling2D  (None, 13, 13, 32)       0         \n",
      " )                                                               \n",
      "                                                                 \n",
      " conv2d_1 (Conv2D)           (None, 11, 11, 64)        18496     \n",
      "                                                                 \n",
      " max_pooling2d_1 (MaxPooling  (None, 5, 5, 64)         0         \n",
      " 2D)                                                             \n",
      "                                                                 \n",
      " conv2d_2 (Conv2D)           (None, 3, 3, 64)          36928     \n",
      "                                                                 \n",
      "=================================================================\n",
      "Total params: 55,744\n",
      "Trainable params: 55,744\n",
      "Non-trainable params: 0\n",
      "_________________________________________________________________\n"
     ]
    }
   ],
   "source": [
    "model.summary()"
   ]
  },
  {
   "cell_type": "markdown",
   "metadata": {},
   "source": [
    "The next step would be to feed our last output tensor (of shape (3, 3, 64)) into a densely-connected classifier network: a stack of Dense layers. These classifiers process vectors, which are 1D, whereas our current output is a 3D tensor. So first, we will have to flatten our 3D outputs to 1D, and then add a few Dense layers on top."
   ]
  },
  {
   "cell_type": "markdown",
   "metadata": {},
   "source": [
    "Only the last layer changes the activation function to softmax."
   ]
  },
  {
   "cell_type": "code",
   "execution_count": 9,
   "metadata": {},
   "outputs": [],
   "source": [
    "numberOfClasses = 10\n",
    "model.add(layers.Flatten())\n",
    "model.add(layers.Dense(number_of_channels[2], activation='relu')) # number_of_channels last conv2d\n",
    "model.add(layers.Dense(numberOfClasses, activation='softmax'))"
   ]
  },
  {
   "cell_type": "code",
   "execution_count": 10,
   "metadata": {},
   "outputs": [
    {
     "name": "stdout",
     "output_type": "stream",
     "text": [
      "Model: \"sequential\"\n",
      "_________________________________________________________________\n",
      " Layer (type)                Output Shape              Param #   \n",
      "=================================================================\n",
      " conv2d (Conv2D)             (None, 26, 26, 32)        320       \n",
      "                                                                 \n",
      " max_pooling2d (MaxPooling2D  (None, 13, 13, 32)       0         \n",
      " )                                                               \n",
      "                                                                 \n",
      " conv2d_1 (Conv2D)           (None, 11, 11, 64)        18496     \n",
      "                                                                 \n",
      " max_pooling2d_1 (MaxPooling  (None, 5, 5, 64)         0         \n",
      " 2D)                                                             \n",
      "                                                                 \n",
      " conv2d_2 (Conv2D)           (None, 3, 3, 64)          36928     \n",
      "                                                                 \n",
      " flatten (Flatten)           (None, 576)               0         \n",
      "                                                                 \n",
      " dense (Dense)               (None, 64)                36928     \n",
      "                                                                 \n",
      " dense_1 (Dense)             (None, 10)                650       \n",
      "                                                                 \n",
      "=================================================================\n",
      "Total params: 93,322\n",
      "Trainable params: 93,322\n",
      "Non-trainable params: 0\n",
      "_________________________________________________________________\n"
     ]
    }
   ],
   "source": [
    "model.summary()"
   ]
  },
  {
   "cell_type": "code",
   "execution_count": 11,
   "metadata": {},
   "outputs": [],
   "source": [
    "model.compile(optimizer='rmsprop', # optimize input weights by comparing the prediction and loss function\n",
    "                loss='categorical_crossentropy', # measures how far the model deviates from the correct prediction\n",
    "                metrics=['accuracy'])"
   ]
  },
  {
   "cell_type": "markdown",
   "metadata": {},
   "source": [
    "### Training and evaluation\n",
    "\n",
    " Since we are facing a multi-class classification problem the best loss function to use in this case is categorical_crossentropy. It measures the distance between two probability distributions: in our case, between the probability distribution output by our network, and the true distribution of the labels. By minimizing the distance between these two distributions, we train our network to output something as close as possible to the true labels.\n",
    "\n",
    "Parameters:\n",
    "\n",
    "* rmsprop optimizer\n",
    "* categorical_crossentropy loss function\n",
    "* accuracy metric\n",
    "\n",
    "Fit the model for 5 epochs and batch size 64."
   ]
  },
  {
   "cell_type": "code",
   "execution_count": 12,
   "metadata": {},
   "outputs": [
    {
     "name": "stdout",
     "output_type": "stream",
     "text": [
      "Epoch 1/5\n"
     ]
    },
    {
     "name": "stdout",
     "output_type": "stream",
     "text": [
      "938/938 [==============================] - 24s 25ms/step - loss: 0.1792 - accuracy: 0.9432\n",
      "Epoch 2/5\n",
      "938/938 [==============================] - 27s 29ms/step - loss: 0.0495 - accuracy: 0.9848\n",
      "Epoch 3/5\n",
      "938/938 [==============================] - 27s 28ms/step - loss: 0.0351 - accuracy: 0.9892\n",
      "Epoch 4/5\n",
      "938/938 [==============================] - 27s 29ms/step - loss: 0.0261 - accuracy: 0.9918\n",
      "Epoch 5/5\n",
      "938/938 [==============================] - 23s 25ms/step - loss: 0.0199 - accuracy: 0.9939\n"
     ]
    }
   ],
   "source": [
    "history = model.fit(\n",
    "    x=train_images_p,\n",
    "    y=train_labels,\n",
    "    batch_size=64,\n",
    "    epochs=5\n",
    ")"
   ]
  },
  {
   "cell_type": "markdown",
   "metadata": {},
   "source": [
    "Verify your model on a test set. You should achieve test accuracy of about 0.99\n",
    "Display the loss and accuracy curves on a plot. "
   ]
  },
  {
   "cell_type": "code",
   "execution_count": 13,
   "metadata": {},
   "outputs": [
    {
     "data": {
      "text/plain": [
       "dict_keys(['loss', 'accuracy'])"
      ]
     },
     "execution_count": 13,
     "metadata": {},
     "output_type": "execute_result"
    }
   ],
   "source": [
    "history_dict = history.history\n",
    "history_dict.keys()"
   ]
  },
  {
   "cell_type": "code",
   "execution_count": 14,
   "metadata": {},
   "outputs": [
    {
     "data": {
      "image/png": "[encoded data removed]",
      "text/plain": [
       "<Figure size 640x480 with 1 Axes>"
      ]
     },
     "metadata": {},
     "output_type": "display_data"
    },
    {
     "data": {
      "image/png": "[encoded data removed]",
      "text/plain": [
       "<Figure size 640x480 with 1 Axes>"
      ]
     },
     "metadata": {},
     "output_type": "display_data"
    }
   ],
   "source": [
    "# summarize history for accuracy\n",
    "plt.plot(history.history['accuracy'])\n",
    "plt.title('model accuracy')\n",
    "plt.ylabel('accuracy')\n",
    "plt.xlabel('epoch')\n",
    "plt.legend(['train', 'test'], loc='upper left')\n",
    "plt.show()\n",
    "\n",
    "# summarize history for loss\n",
    "plt.plot(history.history['loss'])\n",
    "plt.title('model loss')\n",
    "plt.ylabel('loss')\n",
    "plt.xlabel('epoch')\n",
    "plt.legend(['train', 'test'], loc='best')\n",
    "plt.show()"
   ]
  },
  {
   "cell_type": "code",
   "execution_count": 15,
   "metadata": {},
   "outputs": [
    {
     "name": "stdout",
     "output_type": "stream",
     "text": [
      "313/313 [==============================] - 1s 4ms/step - loss: 0.0336 - accuracy: 0.9900\n",
      "test_acc: 0.9900000095367432\n"
     ]
    }
   ],
   "source": [
    "test_loss, test_acc = model.evaluate(test_images_p, test_labels)\n",
    "\n",
    "print('test_acc:', test_acc)"
   ]
  },
  {
   "cell_type": "markdown",
   "metadata": {},
   "source": [
    "## Part 2 ConvNet for small dataset"
   ]
  },
  {
   "cell_type": "markdown",
   "metadata": {},
   "source": [
    "Having to train an image classification model using very little data is a common situation, which you’ll likely encounter in practice if you ever do computer vision in a professional context. A “few” samples can mean anywhere from a few hundred to a few tens of thousands of images. As a practical example, we’ll focus on classifying images as dogs or cats, in a dataset containing 4,000 pictures of cats and dogs (2,000 cats, 2,000 dogs). We’ll use 2,000 pictures for training – 1,000 for validation, and 1,000 for testing. "
   ]
  },
  {
   "cell_type": "markdown",
   "metadata": {},
   "source": [
    "### Dataset\n",
    "\n",
    "Download the original dataset at https://www.kaggle.com/c/dogs-vs-cats/data (create a Kaggle account if you don't already have one).\n",
    "\n",
    "If you use Google Colab and don't want to download the whole dataset on your computer, you can link a Kaggle account with Colab. For further information see link below: https://www.kaggle.com/general/74235\n",
    "\n",
    "This original dataset contains 25,000 images of dogs and cats (12,500 from each class) and is ~800MB large (compressed). After downloading and uncompressing it, we will create a new dataset containing three subsets: a training set with 1000 samples of each class, a validation set with 500 samples of each class, and finally a test set with 500 samples of each class.\n",
    "\n",
    "As we only need 4000 images, you do not need to download the whole dataset. You can download only train set (~500MB large) or copy the first 4000 images from someone else in the group.\n",
    "\n",
    "After downloading the data, you have to arrange them correctly in the catalogues. Data should be split into separate catalogs for dogs and for cats. You can do it manually or in python (for example using os and shutil libraries. "
   ]
  },
  {
   "cell_type": "markdown",
   "metadata": {},
   "source": [
    "main_directory/ <br>\n",
    "...train/ <br>\n",
    "......class_a/ <br>\n",
    ".........a_image_1.jpg <br>\n",
    ".........a_image_2.jpg <br>\n",
    "......class_b/ <br>\n",
    ".........b_image_1.jpg <br>\n",
    ".........b_image_2.jpg <br>\n",
    "...validation/ <br>\n",
    "......class_a/ <br>\n",
    ".........a_image_1.jpg <br>\n",
    ".........a_image_2.jpg <br>\n",
    "......class_b/ <br>\n",
    ".........b_image_1.jpg <br>\n",
    ".........b_image_2.jpg <br>"
   ]
  },
  {
   "cell_type": "markdown",
   "metadata": {},
   "source": [
    "Please check the train/validation/test datasets. We now have 2000 training images, then 1000 validation images and 1000 test images (optional). In each split, there is the same number of samples from each class: this is a balanced binary classification problem, which means that classification accuracy will be an appropriate measure of success."
   ]
  },
  {
   "cell_type": "markdown",
   "metadata": {},
   "source": [
    "### Network architecture\n",
    "\n",
    "You've already built a small convnet for MNIST in the previous exercise. You will reuse the same general structure: our convnet will be a stack of alternated Conv2D (with relu activation) and MaxPooling2D layers.\n",
    "\n",
    "However, since we are dealing with bigger images and a more complex problem, we will make our network accordingly larger: it will have one more Conv2D + MaxPooling2D stage. This serves both to augment the capacity of the network and to further reduce the size of the feature maps so that they aren't overly large when we reach the Flatten layer. Here, since we start from inputs of size 150×150 (a somewhat arbitrary choice), we end up with feature maps of size 7×7 right before the Flatten layer. Note that the depth of the feature maps is progressively increasing in the network (from 32 to 128), while the size of the feature maps is decreasing (from 148×148 to 7×7). This is a pattern that you will see in almost all convnets. Since we are attacking a binary classification problem, we are ending the network with a single unit (a Dense layer of size 1) and a sigmoid activation. This unit will encode the probability that the network is looking at one class or the other.\n",
    "\n",
    "Please create your network architecture based on the information above (4x Conv2d, 4x Maxpooling layers and then Flatten, 2 x Dense layer). "
   ]
  },
  {
   "cell_type": "code",
   "execution_count": 29,
   "metadata": {},
   "outputs": [],
   "source": [
    "from keras import models\n",
    "from keras import layers\n",
    "\n",
    "image_height, image_width, image_channels = 150, 150, 3\n",
    "\n",
    "filterSizeConv2D = 3, 3\n",
    "filterSizePooling2D = 2, 2\n",
    "number_of_channels = 32, 64, 128, 128, 512\n",
    "\n",
    "model = models.Sequential()\n",
    "model.add(layers.Rescaling(1/255, input_shape=(image_height, image_width, image_channels)))\n",
    "model.add(layers.Conv2D(\n",
    "    number_of_channels[0],\n",
    "    (filterSizeConv2D[0],\n",
    "     filterSizeConv2D[1]),\n",
    "     activation='relu',\n",
    "     input_shape=(image_height, image_width, image_channels)))\n",
    "model.add(layers.MaxPooling2D((filterSizePooling2D[0], filterSizePooling2D[1])))\n",
    "model.add(layers.Conv2D(\n",
    "    number_of_channels[1],\n",
    "    (filterSizeConv2D[0],\n",
    "     filterSizeConv2D[1]),\n",
    "     activation='relu',\n",
    "     input_shape=(image_height, image_width, image_channels)))\n",
    "model.add(layers.MaxPooling2D((filterSizePooling2D[0], filterSizePooling2D[1])))\n",
    "model.add(layers.Conv2D(\n",
    "    number_of_channels[2],\n",
    "    (filterSizeConv2D[0],\n",
    "     filterSizeConv2D[1]),\n",
    "     activation='relu',\n",
    "     input_shape=(image_height, image_width, image_channels)))\n",
    "model.add(layers.MaxPooling2D((filterSizePooling2D[0], filterSizePooling2D[1])))\n",
    "model.add(layers.Conv2D(\n",
    "    number_of_channels[3],\n",
    "    (filterSizeConv2D[0],\n",
    "     filterSizeConv2D[1]),\n",
    "     activation='relu',\n",
    "     input_shape=(image_height, image_width, image_channels)))\n",
    "model.add(layers.MaxPooling2D((filterSizePooling2D[0], filterSizePooling2D[1])))\n",
    "\n",
    "numberOfClasses = 1\n",
    "model.add(layers.Flatten())\n",
    "model.add(layers.Dense(number_of_channels[4], activation='relu')) # number_of_channels last conv2d\n",
    "model.add(layers.Dense(numberOfClasses, activation='sigmoid'))\n"
   ]
  },
  {
   "cell_type": "code",
   "execution_count": 30,
   "metadata": {},
   "outputs": [
    {
     "name": "stdout",
     "output_type": "stream",
     "text": [
      "Model: \"sequential_11\"\n",
      "_________________________________________________________________\n",
      " Layer (type)                Output Shape              Param #   \n",
      "=================================================================\n",
      " rescaling_8 (Rescaling)     (None, 150, 150, 3)       0         \n",
      "                                                                 \n",
      " conv2d_35 (Conv2D)          (None, 148, 148, 32)      896       \n",
      "                                                                 \n",
      " max_pooling2d_34 (MaxPoolin  (None, 74, 74, 32)       0         \n",
      " g2D)                                                            \n",
      "                                                                 \n",
      " conv2d_36 (Conv2D)          (None, 72, 72, 64)        18496     \n",
      "                                                                 \n",
      " max_pooling2d_35 (MaxPoolin  (None, 36, 36, 64)       0         \n",
      " g2D)                                                            \n",
      "                                                                 \n",
      " conv2d_37 (Conv2D)          (None, 34, 34, 128)       73856     \n",
      "                                                                 \n",
      " max_pooling2d_36 (MaxPoolin  (None, 17, 17, 128)      0         \n",
      " g2D)                                                            \n",
      "                                                                 \n",
      " conv2d_38 (Conv2D)          (None, 15, 15, 128)       147584    \n",
      "                                                                 \n",
      " max_pooling2d_37 (MaxPoolin  (None, 7, 7, 128)        0         \n",
      " g2D)                                                            \n",
      "                                                                 \n",
      " flatten_8 (Flatten)         (None, 6272)              0         \n",
      "                                                                 \n",
      " dense_16 (Dense)            (None, 512)               3211776   \n",
      "                                                                 \n",
      " dense_17 (Dense)            (None, 1)                 513       \n",
      "                                                                 \n",
      "=================================================================\n",
      "Total params: 3,453,121\n",
      "Trainable params: 3,453,121\n",
      "Non-trainable params: 0\n",
      "_________________________________________________________________\n"
     ]
    }
   ],
   "source": [
    "model.summary()"
   ]
  },
  {
   "cell_type": "markdown",
   "metadata": {},
   "source": [
    " Compilation step:\n",
    "\n",
    "* RMSprop optimizer - with learning rate parameter(lr=1e-4)\n",
    "* Binary crossentropy loss funtion\n",
    "* Accuracy metric\n"
   ]
  },
  {
   "cell_type": "code",
   "execution_count": 31,
   "metadata": {},
   "outputs": [],
   "source": [
    "optimizerRMSprop = keras.optimizers.RMSprop(learning_rate=1e-4)\n",
    "model.compile(optimizer=optimizerRMSprop,\n",
    "                loss='binary_crossentropy',\n",
    "                metrics=['accuracy'])"
   ]
  },
  {
   "cell_type": "markdown",
   "metadata": {},
   "source": [
    "### Data preprocessing\n",
    "\n",
    " Data preprocessing steps include the following:\n",
    "\n",
    "* Read the picture files.\n",
    "* Decode the JPEG content to RBG grids of pixels.\n",
    "* Convert these into floating-point tensors.\n",
    "* Rescale the pixel values (between 0 and 255) to the [0, 1] interval (as you know, neural networks prefer to deal with small input values).\n",
    "\n",
    "It may seem a bit daunting, but thankfully Keras has utilities to take care of these steps automatically. It has a module with image processing helper tools, located at tensorflow.keras.preprocessing. In particular, it contains the class ImageDataGenerator (In older version of tensorflow only. It is now replaced by image_dataset_from_directory) which allows to quickly set up Python generators that can automatically turn image files on disk into batches of pre-processed tensors. This is what we will use here. One of the useful properties of ImageDataGenerator is the ability to automatically label data based on which folder they are in. That is why, at the beginning of the exercise, we put dogs and cats into the appropriate folders. "
   ]
  },
  {
   "cell_type": "code",
   "execution_count": 32,
   "metadata": {},
   "outputs": [
    {
     "name": "stdout",
     "output_type": "stream",
     "text": [
      "Found 2000 files belonging to 2 classes.\n",
      "Found 1000 files belonging to 2 classes.\n"
     ]
    }
   ],
   "source": [
    "from tensorflow.keras.preprocessing import  image_dataset_from_directory\n",
    " \n",
    "train_dataset = image_dataset_from_directory(\n",
    "    R\"data/train\",  # This is the target directory\n",
    "    labels=\"inferred\", \n",
    "    label_mode=\"binary\", # Since we use binary_crossentropy loss, we need binary labels\n",
    "    class_names=None,\n",
    "    color_mode=\"rgb\",\n",
    "    batch_size=20,\n",
    "    image_size=(150, 150), # All images have different sizes and will be resized to 150x150\n",
    "    shuffle=True,\n",
    ")\n",
    " \n",
    "val_dataset = image_dataset_from_directory(\n",
    "    R\"data/validation\",  # This is the target directory\n",
    "    labels=\"inferred\", \n",
    "    label_mode=\"binary\", # Since we use binary_crossentropy loss, we need binary labels\n",
    "    class_names=None,\n",
    "    color_mode=\"rgb\",\n",
    "    batch_size=20,\n",
    "    image_size=(150, 150), # All images have different sizes and will be resized to 150x150\n",
    "    shuffle=True,\n",
    ")"
   ]
  },
  {
   "cell_type": "markdown",
   "metadata": {},
   "source": [
    "Let's fit our model to the dataset. We may pass a validation_data argument. "
   ]
  },
  {
   "cell_type": "code",
   "execution_count": 33,
   "metadata": {},
   "outputs": [
    {
     "name": "stdout",
     "output_type": "stream",
     "text": [
      "Epoch 1/30\n",
      "100/100 [==============================] - 28s 271ms/step - loss: 0.6882 - accuracy: 0.5545 - val_loss: 0.6675 - val_accuracy: 0.6130\n",
      "Epoch 2/30\n",
      "100/100 [==============================] - 27s 267ms/step - loss: 0.6605 - accuracy: 0.5985 - val_loss: 0.6513 - val_accuracy: 0.6220\n",
      "Epoch 3/30\n",
      "100/100 [==============================] - 27s 268ms/step - loss: 0.6130 - accuracy: 0.6725 - val_loss: 0.6337 - val_accuracy: 0.6310\n",
      "Epoch 4/30\n",
      "100/100 [==============================] - 27s 271ms/step - loss: 0.5822 - accuracy: 0.7060 - val_loss: 0.6421 - val_accuracy: 0.6310\n",
      "Epoch 5/30\n",
      "100/100 [==============================] - 27s 270ms/step - loss: 0.5421 - accuracy: 0.7215 - val_loss: 0.5936 - val_accuracy: 0.6840\n",
      "Epoch 6/30\n",
      "100/100 [==============================] - 27s 267ms/step - loss: 0.5120 - accuracy: 0.7485 - val_loss: 0.5754 - val_accuracy: 0.6990\n",
      "Epoch 7/30\n",
      "100/100 [==============================] - 27s 268ms/step - loss: 0.4905 - accuracy: 0.7645 - val_loss: 0.5581 - val_accuracy: 0.7020\n",
      "Epoch 8/30\n",
      "100/100 [==============================] - 27s 268ms/step - loss: 0.4679 - accuracy: 0.7810 - val_loss: 0.5684 - val_accuracy: 0.7130\n",
      "Epoch 9/30\n",
      "100/100 [==============================] - 28s 281ms/step - loss: 0.4388 - accuracy: 0.8040 - val_loss: 0.5467 - val_accuracy: 0.7350\n",
      "Epoch 10/30\n",
      "100/100 [==============================] - 27s 271ms/step - loss: 0.4119 - accuracy: 0.8130 - val_loss: 0.5422 - val_accuracy: 0.7410\n",
      "Epoch 11/30\n",
      "100/100 [==============================] - 27s 271ms/step - loss: 0.3870 - accuracy: 0.8230 - val_loss: 0.5883 - val_accuracy: 0.7160\n",
      "Epoch 12/30\n",
      "100/100 [==============================] - 26s 264ms/step - loss: 0.3631 - accuracy: 0.8380 - val_loss: 0.5664 - val_accuracy: 0.7140\n",
      "Epoch 13/30\n",
      "100/100 [==============================] - 26s 264ms/step - loss: 0.3375 - accuracy: 0.8515 - val_loss: 0.5574 - val_accuracy: 0.7350\n",
      "Epoch 14/30\n",
      "100/100 [==============================] - 26s 264ms/step - loss: 0.3159 - accuracy: 0.8600 - val_loss: 0.5881 - val_accuracy: 0.7250\n",
      "Epoch 15/30\n",
      "100/100 [==============================] - 26s 264ms/step - loss: 0.2946 - accuracy: 0.8690 - val_loss: 0.6129 - val_accuracy: 0.7350\n",
      "Epoch 16/30\n",
      "100/100 [==============================] - 26s 263ms/step - loss: 0.2761 - accuracy: 0.8860 - val_loss: 0.6319 - val_accuracy: 0.7360\n",
      "Epoch 17/30\n",
      "100/100 [==============================] - 26s 265ms/step - loss: 0.2509 - accuracy: 0.8985 - val_loss: 0.6030 - val_accuracy: 0.7320\n",
      "Epoch 18/30\n",
      "100/100 [==============================] - 26s 264ms/step - loss: 0.2374 - accuracy: 0.9045 - val_loss: 0.7065 - val_accuracy: 0.7350\n",
      "Epoch 19/30\n",
      "100/100 [==============================] - 26s 264ms/step - loss: 0.2154 - accuracy: 0.9170 - val_loss: 0.6454 - val_accuracy: 0.7190\n",
      "Epoch 20/30\n",
      "100/100 [==============================] - 26s 263ms/step - loss: 0.1964 - accuracy: 0.9330 - val_loss: 0.6774 - val_accuracy: 0.7250\n",
      "Epoch 21/30\n",
      "100/100 [==============================] - 26s 263ms/step - loss: 0.1754 - accuracy: 0.9355 - val_loss: 0.7044 - val_accuracy: 0.7290\n",
      "Epoch 22/30\n",
      "100/100 [==============================] - 29s 291ms/step - loss: 0.1668 - accuracy: 0.9385 - val_loss: 0.6726 - val_accuracy: 0.7380\n",
      "Epoch 23/30\n",
      "100/100 [==============================] - 30s 298ms/step - loss: 0.1408 - accuracy: 0.9540 - val_loss: 0.7311 - val_accuracy: 0.7260\n",
      "Epoch 24/30\n",
      "100/100 [==============================] - 27s 268ms/step - loss: 0.1262 - accuracy: 0.9560 - val_loss: 0.7548 - val_accuracy: 0.7390\n",
      "Epoch 25/30\n",
      "100/100 [==============================] - 26s 263ms/step - loss: 0.1101 - accuracy: 0.9635 - val_loss: 0.8675 - val_accuracy: 0.7130\n",
      "Epoch 26/30\n",
      "100/100 [==============================] - 27s 266ms/step - loss: 0.0903 - accuracy: 0.9760 - val_loss: 0.8599 - val_accuracy: 0.7210\n",
      "Epoch 27/30\n",
      "100/100 [==============================] - 28s 280ms/step - loss: 0.0885 - accuracy: 0.9740 - val_loss: 0.8529 - val_accuracy: 0.7480\n",
      "Epoch 28/30\n",
      "100/100 [==============================] - 27s 266ms/step - loss: 0.0740 - accuracy: 0.9795 - val_loss: 0.8638 - val_accuracy: 0.7390\n",
      "Epoch 29/30\n",
      "100/100 [==============================] - 27s 271ms/step - loss: 0.0687 - accuracy: 0.9790 - val_loss: 0.8956 - val_accuracy: 0.7450\n",
      "Epoch 30/30\n",
      "100/100 [==============================] - 29s 286ms/step - loss: 0.0562 - accuracy: 0.9840 - val_loss: 0.9626 - val_accuracy: 0.7310\n"
     ]
    }
   ],
   "source": [
    "history = model.fit(train_dataset, epochs=30, validation_data=val_dataset)"
   ]
  },
  {
   "cell_type": "markdown",
   "metadata": {},
   "source": [
    "### Outcome analysis\n",
    "\n",
    "Plot the loss and accuracy of the model over the training and validation data during training. "
   ]
  },
  {
   "cell_type": "code",
   "execution_count": 34,
   "metadata": {},
   "outputs": [
    {
     "data": {
      "image/png": "[encoded data removed]",
      "text/plain": [
       "<Figure size 640x480 with 1 Axes>"
      ]
     },
     "metadata": {},
     "output_type": "display_data"
    },
    {
     "data": {
      "image/png": "[encoded data removed]",
      "text/plain": [
       "<Figure size 640x480 with 1 Axes>"
      ]
     },
     "metadata": {},
     "output_type": "display_data"
    }
   ],
   "source": [
    "history_dict = history.history\n",
    "history_dict.keys()\n",
    "\n",
    "# summarize history for accuracy\n",
    "plt.plot(history.history['accuracy'])\n",
    "plt.plot(history.history['val_accuracy'])\n",
    "plt.title('model accuracy')\n",
    "plt.ylabel('accuracy')\n",
    "plt.xlabel('epoch')\n",
    "plt.legend(['train', 'test'], loc='upper left')\n",
    "plt.show()\n",
    "\n",
    "# summarize history for loss\n",
    "plt.plot(history.history['loss'])\n",
    "plt.plot(history.history['val_loss'])\n",
    "plt.title('model loss')\n",
    "plt.ylabel('loss')\n",
    "plt.xlabel('epoch')\n",
    "plt.legend(['train', 'test'], loc='best')\n",
    "plt.show()"
   ]
  },
  {
   "cell_type": "markdown",
   "metadata": {},
   "source": [
    "In these plots, you should see that the model is overfitting. Our training accuracy increases linearly over time, until it reaches nearly 100%, while our validation accuracy stalls at 70-72%. Our validation loss reaches its minimum after only five epochs then stalls, while the training loss keeps decreasing linearly until it reaches nearly 0.\n",
    "\n",
    "Because we only have relatively few training samples (2000), overfitting is going to be our number one concern. There are many techniques that can help mitigate overfitting, such as reducing the number of epochs, adding dropout layers dropout, or weight decay (L2 regularization). We will look at them next weeks. "
   ]
  },
  {
   "cell_type": "code",
   "execution_count": null,
   "metadata": {},
   "outputs": [],
   "source": []
  }
 ],
 "metadata": {
  "kernelspec": {
   "display_name": "Python 3",
   "language": "python",
   "name": "python3"
  },
  "language_info": {
   "codemirror_mode": {
    "name": "ipython",
    "version": 3
   },
   "file_extension": ".py",
   "mimetype": "text/x-python",
   "name": "python",
   "nbconvert_exporter": "python",
   "pygments_lexer": "ipython3",
   "version": "3.11.3"
  }
 },
 "nbformat": 4,
 "nbformat_minor": 2
}
