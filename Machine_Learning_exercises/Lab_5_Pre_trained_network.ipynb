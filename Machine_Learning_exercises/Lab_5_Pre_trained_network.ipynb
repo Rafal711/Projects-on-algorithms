{
  "cells": [
    {
      "cell_type": "markdown",
      "metadata": {
        "id": "hn0ciVJJWeTw"
      },
      "source": [
        "# Pre-trained network (VGG 16)"
      ]
    },
    {
      "cell_type": "code",
      "execution_count": 2,
      "metadata": {
        "colab": {
          "base_uri": "https://localhost:8080/"
        },
        "id": "kMQ2QrcNW2wC",
        "outputId": "e50a2a97-9ffd-426c-c705-fefac580f183"
      },
      "outputs": [
        {
          "name": "stdout",
          "output_type": "stream",
          "text": [
            "Mounted at /content/drive\n"
          ]
        }
      ],
      "source": [
        "from google.colab import drive\n",
        "drive.mount('/content/drive')"
      ]
    },
    {
      "cell_type": "markdown",
      "metadata": {
        "id": "CIZZg_pfWeTy"
      },
      "source": [
        " A common and highly effective approach to deep learning on small image datasets is to leverage a pre-trained network. A pre-trained network is simply a saved network previously trained on a large dataset, typically on a large-scale image classification task. If this original dataset is large enough and general enough, then the spatial feature hierarchy learned by the pre-trained network can effectively act as a generic model of our visual world, and hence its features can prove useful for many different computer vision problems, even though these new problems might involve completely different classes from those of the original task. For instance, one might train a network on ImageNet (where classes are mostly animals and everyday objects) and then re-purpose this trained network for something as remote as identifying furniture items in images. Such portability of learned features across different problems is a key advantage of deep learning compared to many older shallow learning approaches, and it makes deep learning very effective for small-data problems.\n",
        "\n",
        "During this exercise we will use the VGG16 architecture, developed by Karen Simonyan and Andrew Zisserman in 2014, a simple and widely used convnet architecture for ImageNet. Some another pre-trained models are VGG, ResNet, Inception, Inception-ResNet, Xception, DenseNet. Detailed descriptions can be found on this website: Pre-trained network architectures . Please have a look at the VGG architecture."
      ]
    },
    {
      "cell_type": "markdown",
      "metadata": {
        "id": "JzXMsp_6WeTz"
      },
      "source": [
        "### Transfer learning\n",
        "\n",
        "As we saw previously, convnets used for image classification comprise two parts: they start with a series of pooling and convolution layers, and they end with a densely-connected classifier. The first part is called the “convolutional base” of the model. In the case of convnets, “feature extraction” will simply consist of taking the convolutional base of a previously-trained network, running the new data through it, and training a new classifier on top of the output."
      ]
    },
    {
      "cell_type": "markdown",
      "metadata": {
        "id": "EQdmQEeCWeTz"
      },
      "source": []
    },
    {
      "cell_type": "markdown",
      "metadata": {
        "id": "47_TOTvTWeTz"
      },
      "source": [
        " Feature maps of a convnet are presence maps of generic concepts over a picture, which is likely to be useful regardless of the computer vision problem at hand. On the other end, the representations learned by the classifier will necessarily be very specific to the set of classes that the model was trained on – they will only contain information about the presence probability of this or that class in the entire picture. Additionally, representations found in densely-connected layers no longer contain any information about where objects are located in the input image: these layers get rid of the notion of space, whereas the object location is still described by convolutional feature maps. For problems where object location matters, densely-connected features would be largely useless. Note that the level of generality (and therefore reusability) of the representations extracted by specific convolution layers depends on the depth of the layer in the model. Layers that come earlier in the model extract local, highly generic feature maps (such as visual edges, colors, and textures), while layers higher-up extract more abstract concepts (such as “cat ear” or “dog eye”). So if your new dataset differs a lot from the dataset that the original model was trained on, you may be better off using only the first few layers of the model to do feature extraction, rather than using the entire convolutional base.\n",
        "\n",
        "In our case, since the ImageNet class set did contain multiple dog and cat classes, it is likely that it would be beneficial to reuse the information contained in the densely-connected layers of the original model. However, we will choose not to, in order to cover the more general case where the class set of the new problem does not overlap with the class set of the original model.Let's put this in practice by using the convolutional base of the VGG16 network, trained on ImageNet, to extract interesting features from our cat and dog images, and then training a cat vs. dog classifier on top of these features.\n",
        "\n",
        "The VGG16 model, among others, comes pre-packaged with Keras. You can import it from the keras.applications module. Here's the list of image classification models (all pre-trained on the ImageNet dataset) that are available as part of keras.applications:\n",
        "\n",
        "* Xception\n",
        "* InceptionV3\n",
        "* ResNet50\n",
        "* VGG16\n",
        "* VGG19\n",
        "* DenseNet\n",
        "* MobileNet\n"
      ]
    },
    {
      "cell_type": "markdown",
      "metadata": {
        "id": "8IYZxrX3WeT0"
      },
      "source": [
        "### VGG-16 model\n",
        "\n",
        "Import the model from Keras:"
      ]
    },
    {
      "cell_type": "code",
      "execution_count": 3,
      "metadata": {
        "id": "vM-GuiGnWeT0"
      },
      "outputs": [],
      "source": [
        "import matplotlib\n",
        "import numpy as np\n",
        "import matplotlib.pyplot as plt\n",
        "from tensorflow import keras\n",
        "import keras\n",
        "from keras import models\n",
        "from keras import layers\n",
        "import tensorflow.keras.preprocessing\n",
        "from tensorflow.keras.preprocessing import  image_dataset_from_directory"
      ]
    },
    {
      "cell_type": "code",
      "execution_count": 4,
      "metadata": {
        "colab": {
          "base_uri": "https://localhost:8080/"
        },
        "id": "cdbm64WjWeT1",
        "outputId": "2db0f439-73d8-446c-a7de-ec10fa230c24"
      },
      "outputs": [
        {
          "name": "stdout",
          "output_type": "stream",
          "text": [
            "Downloading data from https://storage.googleapis.com/tensorflow/keras-applications/vgg16/vgg16_weights_tf_dim_ordering_tf_kernels_notop.h5\n",
            "58889256/58889256 [==============================] - 4s 0us/step\n"
          ]
        }
      ],
      "source": [
        "from tensorflow.keras.applications import VGG16\n",
        "\n",
        "conv_base = VGG16(weights='imagenet',\n",
        "                  include_top=False,\n",
        "                  input_shape=(150, 150, 3))"
      ]
    },
    {
      "cell_type": "markdown",
      "metadata": {
        "id": "gT6zhP3BWeT1"
      },
      "source": [
        " We passed three arguments to the constructor:\n",
        "\n",
        "* weights, to specify which weight checkpoint to initialize the model from\n",
        "* include_top, which refers to including or not the densely-connected classifier on top of the network. Bydefault, this densely-connected classifier would correspond to the 1000 classes from ImageNet. Since we intendto use our own densely-connected classifier (with only two classes, cat and dog), we don't need to include it.\n",
        "* input_shape, the shape of the image tensors that we will feed to the network. This argument is purelyoptional: if we don't pass it, then the network will be able to process inputs of any size.\n"
      ]
    },
    {
      "cell_type": "markdown",
      "metadata": {
        "id": "ZJ6t5NQ0WeT2"
      },
      "source": [
        "Ex. 1.1 Please analyze the model of VGG-16 (model summary) - after compilation."
      ]
    },
    {
      "cell_type": "code",
      "execution_count": 5,
      "metadata": {
        "colab": {
          "base_uri": "https://localhost:8080/"
        },
        "id": "SBYuERUfWeT3",
        "outputId": "6a13d803-e0ee-4304-cb51-34f2d543f37c"
      },
      "outputs": [
        {
          "name": "stdout",
          "output_type": "stream",
          "text": [
            "Model: \"vgg16\"\n",
            "_________________________________________________________________\n",
            " Layer (type)                Output Shape              Param #   \n",
            "=================================================================\n",
            " input_1 (InputLayer)        [(None, 150, 150, 3)]     0         \n",
            "                                                                 \n",
            " block1_conv1 (Conv2D)       (None, 150, 150, 64)      1792      \n",
            "                                                                 \n",
            " block1_conv2 (Conv2D)       (None, 150, 150, 64)      36928     \n",
            "                                                                 \n",
            " block1_pool (MaxPooling2D)  (None, 75, 75, 64)        0         \n",
            "                                                                 \n",
            " block2_conv1 (Conv2D)       (None, 75, 75, 128)       73856     \n",
            "                                                                 \n",
            " block2_conv2 (Conv2D)       (None, 75, 75, 128)       147584    \n",
            "                                                                 \n",
            " block2_pool (MaxPooling2D)  (None, 37, 37, 128)       0         \n",
            "                                                                 \n",
            " block3_conv1 (Conv2D)       (None, 37, 37, 256)       295168    \n",
            "                                                                 \n",
            " block3_conv2 (Conv2D)       (None, 37, 37, 256)       590080    \n",
            "                                                                 \n",
            " block3_conv3 (Conv2D)       (None, 37, 37, 256)       590080    \n",
            "                                                                 \n",
            " block3_pool (MaxPooling2D)  (None, 18, 18, 256)       0         \n",
            "                                                                 \n",
            " block4_conv1 (Conv2D)       (None, 18, 18, 512)       1180160   \n",
            "                                                                 \n",
            " block4_conv2 (Conv2D)       (None, 18, 18, 512)       2359808   \n",
            "                                                                 \n",
            " block4_conv3 (Conv2D)       (None, 18, 18, 512)       2359808   \n",
            "                                                                 \n",
            " block4_pool (MaxPooling2D)  (None, 9, 9, 512)         0         \n",
            "                                                                 \n",
            " block5_conv1 (Conv2D)       (None, 9, 9, 512)         2359808   \n",
            "                                                                 \n",
            " block5_conv2 (Conv2D)       (None, 9, 9, 512)         2359808   \n",
            "                                                                 \n",
            " block5_conv3 (Conv2D)       (None, 9, 9, 512)         2359808   \n",
            "                                                                 \n",
            " block5_pool (MaxPooling2D)  (None, 4, 4, 512)         0         \n",
            "                                                                 \n",
            "=================================================================\n",
            "Total params: 14714688 (56.13 MB)\n",
            "Trainable params: 14714688 (56.13 MB)\n",
            "Non-trainable params: 0 (0.00 Byte)\n",
            "_________________________________________________________________\n"
          ]
        }
      ],
      "source": [
        "conv_base.summary()"
      ]
    },
    {
      "cell_type": "markdown",
      "metadata": {
        "id": "3o66KGnmWeT3"
      },
      "source": [
        "Ex. 1.2 What is the final feature map shape ?"
      ]
    },
    {
      "cell_type": "markdown",
      "metadata": {
        "id": "3-W6kCV-WeT3"
      },
      "source": [
        " Summary:\n",
        " ...\n",
        "\n",
        " block4_pool (MaxPooling2D)  (None, 9, 9, 512)         0         \n",
        "                                                                 \n",
        " block5_conv1 (Conv2D)       (None, 9, 9, 512)         2359808   \n",
        "                                                                 \n",
        " block5_conv2 (Conv2D)       (None, 9, 9, 512)         2359808   \n",
        "                                                                 \n",
        " block5_conv3 (Conv2D)       (None, 9, 9, 512)         2359808   \n",
        "                                                 \n",
        " block5_pool (MaxPooling2D)  (None, 4, 4, 512)         0         \n",
        "                                                                 "
      ]
    },
    {
      "cell_type": "markdown",
      "metadata": {
        "id": "RFDaCRBoWeT4"
      },
      "source": [
        " At this point, there are two ways we could proceed to leverage a pre-trained network: feature extraction and fine-tuning:\n",
        "\n",
        "* Feature Extraction: a new classifier is trained from scratch on top of the pre-trained model.\n",
        "* Fine-Tuning: unfreezing a few of the top layers of a frozen model base and training both the newly-added    classifier layers and the last layers of the base model.\n"
      ]
    },
    {
      "cell_type": "markdown",
      "metadata": {
        "id": "0bqJX8qiWeT4"
      },
      "source": [
        "### Basic feature extraction\n",
        "\n",
        "Let's start with feature extraction - recording the output of conv_base on our data and using these outputs as inputs to a new model. We will start by simply running instances of the previously-introduced ImageDataGenerator (lab. 3 and 4) to extract images as Numpy arrays as well as their labels. We will extract features from these images simply by calling the predict method of the conv_base model. Import the required module, create the required directory, and preliminarily set up the generator."
      ]
    },
    {
      "cell_type": "code",
      "execution_count": 6,
      "metadata": {
        "id": "wDuoeZksWeT4"
      },
      "outputs": [],
      "source": [
        "import os\n",
        "import numpy as np\n",
        "from keras.preprocessing.image import ImageDataGenerator\n",
        "\n",
        "base_dir = '/content/drive/MyDrive/'\n",
        "\n",
        "train_dir = os.path.join(base_dir, 'data/train')\n",
        "validation_dir = os.path.join(base_dir, 'data/validation')\n",
        "test_dir = os.path.join(base_dir, 'data/validation')\n",
        "\n",
        "datagen = ImageDataGenerator(rescale=1./255)\n",
        "batch_size = 20"
      ]
    },
    {
      "cell_type": "markdown",
      "metadata": {
        "id": "S47-QVCUWeT4"
      },
      "source": [
        "Now we construct a feature extraction function. The size of the first numpy array is: sample size * 4 * 4 * 512, corresponding to the size of the network output, then the label is naturally only a one-dimensional array of sample size. Later, generators are used to package data in batches for easy processing. The generator determines the size of the picture, and then obtains the label of the picture and stores it in the array. The label here is the name of the folder. In this example, there are two folders, so 0 and 1. The processed image is in the form of a data stream, which is equivalent to 20 pictures per batch forming a data stream, and the label is the root."
      ]
    },
    {
      "cell_type": "code",
      "execution_count": 7,
      "metadata": {
        "id": "MABkirNbWeT5"
      },
      "outputs": [],
      "source": [
        "def extract_features(directory, sample_count):\n",
        "    features = np.zeros(shape=(sample_count, 4, 4, 512))\n",
        "    labels = np.zeros(shape=(sample_count))\n",
        "    generator = datagen.flow_from_directory(\n",
        "        directory,\n",
        "        target_size=(150, 150),\n",
        "        batch_size=batch_size,\n",
        "        class_mode='binary')\n",
        "    i = 0\n",
        "    for inputs_batch, labels_batch in generator:\n",
        "        features_batch = conv_base.predict(inputs_batch)\n",
        "        features[i * batch_size : (i + 1) * batch_size] = features_batch\n",
        "        labels[i * batch_size : (i + 1) * batch_size] = labels_batch\n",
        "        i += 1\n",
        "        if i * batch_size >= sample_count:\n",
        "            # Note that since generators yield data indefinitely in a loop,\n",
        "            # we must `break` after every image has been seen once.\n",
        "            break\n",
        "    return features, labels"
      ]
    },
    {
      "cell_type": "markdown",
      "metadata": {
        "id": "GycC0e_kWeT5"
      },
      "source": [
        "In the later for loop, the processed data stream is input directly into the existing model and output the result. Then the result is stored in the feature array which is defined at the beginning, and the labels are stored in the labels array. In order to avoid infinite loops, a number of restrictions are added to ensure that all data is used without duplication.\n",
        "\n",
        "Here we create the training set, test set and validation set. Used this method once and keep their labels."
      ]
    },
    {
      "cell_type": "code",
      "execution_count": 8,
      "metadata": {
        "colab": {
          "base_uri": "https://localhost:8080/"
        },
        "id": "Bu-2Tb9rWeT5",
        "outputId": "da9a04a6-9723-4eb0-cc57-11cb109d9b22"
      },
      "outputs": [
        {
          "name": "stdout",
          "output_type": "stream",
          "text": [
            "Found 2000 images belonging to 2 classes.\n",
            "1/1 [==============================] - 8s 8s/step\n",
            "1/1 [==============================] - 0s 23ms/step\n",
            "1/1 [==============================] - 0s 23ms/step\n",
            "1/1 [==============================] - 0s 26ms/step\n",
            "1/1 [==============================] - 0s 23ms/step\n",
            "1/1 [==============================] - 0s 31ms/step\n",
            "1/1 [==============================] - 0s 25ms/step\n",
            "1/1 [==============================] - 0s 21ms/step\n",
            "1/1 [==============================] - 0s 32ms/step\n",
            "1/1 [==============================] - 0s 19ms/step\n",
            "1/1 [==============================] - 0s 40ms/step\n",
            "1/1 [==============================] - 0s 23ms/step\n",
            "1/1 [==============================] - 0s 33ms/step\n",
            "1/1 [==============================] - 0s 20ms/step\n",
            "1/1 [==============================] - 0s 20ms/step\n",
            "1/1 [==============================] - 0s 36ms/step\n",
            "1/1 [==============================] - 0s 20ms/step\n",
            "1/1 [==============================] - 0s 22ms/step\n",
            "1/1 [==============================] - 0s 28ms/step\n",
            "1/1 [==============================] - 0s 20ms/step\n",
            "1/1 [==============================] - 0s 22ms/step\n",
            "1/1 [==============================] - 0s 29ms/step\n",
            "1/1 [==============================] - 0s 26ms/step\n",
            "1/1 [==============================] - 0s 32ms/step\n",
            "1/1 [==============================] - 0s 20ms/step\n",
            "1/1 [==============================] - 0s 29ms/step\n",
            "1/1 [==============================] - 0s 34ms/step\n",
            "1/1 [==============================] - 0s 20ms/step\n",
            "1/1 [==============================] - 0s 21ms/step\n",
            "1/1 [==============================] - 0s 27ms/step\n",
            "1/1 [==============================] - 0s 28ms/step\n",
            "1/1 [==============================] - 0s 20ms/step\n",
            "1/1 [==============================] - 0s 23ms/step\n",
            "1/1 [==============================] - 0s 29ms/step\n",
            "1/1 [==============================] - 0s 20ms/step\n",
            "1/1 [==============================] - 0s 20ms/step\n",
            "1/1 [==============================] - 0s 21ms/step\n",
            "1/1 [==============================] - 0s 22ms/step\n",
            "1/1 [==============================] - 0s 19ms/step\n",
            "1/1 [==============================] - 0s 20ms/step\n",
            "1/1 [==============================] - 0s 20ms/step\n",
            "1/1 [==============================] - 0s 21ms/step\n",
            "1/1 [==============================] - 0s 23ms/step\n",
            "1/1 [==============================] - 0s 21ms/step\n",
            "1/1 [==============================] - 0s 30ms/step\n",
            "1/1 [==============================] - 0s 20ms/step\n",
            "1/1 [==============================] - 0s 27ms/step\n",
            "1/1 [==============================] - 0s 23ms/step\n",
            "1/1 [==============================] - 0s 29ms/step\n",
            "1/1 [==============================] - 0s 23ms/step\n",
            "1/1 [==============================] - 0s 36ms/step\n",
            "1/1 [==============================] - 0s 21ms/step\n",
            "1/1 [==============================] - 0s 24ms/step\n",
            "1/1 [==============================] - 0s 22ms/step\n",
            "1/1 [==============================] - 0s 33ms/step\n",
            "1/1 [==============================] - 0s 20ms/step\n",
            "1/1 [==============================] - 0s 46ms/step\n",
            "1/1 [==============================] - 0s 20ms/step\n",
            "1/1 [==============================] - 0s 21ms/step\n",
            "1/1 [==============================] - 0s 31ms/step\n",
            "1/1 [==============================] - 0s 21ms/step\n",
            "1/1 [==============================] - 0s 20ms/step\n",
            "1/1 [==============================] - 0s 20ms/step\n",
            "1/1 [==============================] - 0s 19ms/step\n",
            "1/1 [==============================] - 0s 25ms/step\n",
            "1/1 [==============================] - 0s 32ms/step\n",
            "1/1 [==============================] - 0s 22ms/step\n",
            "1/1 [==============================] - 0s 35ms/step\n",
            "1/1 [==============================] - 0s 24ms/step\n",
            "1/1 [==============================] - 0s 22ms/step\n",
            "1/1 [==============================] - 0s 21ms/step\n",
            "1/1 [==============================] - 0s 21ms/step\n",
            "1/1 [==============================] - 0s 23ms/step\n",
            "1/1 [==============================] - 0s 28ms/step\n",
            "1/1 [==============================] - 0s 19ms/step\n",
            "1/1 [==============================] - 0s 28ms/step\n",
            "1/1 [==============================] - 0s 20ms/step\n",
            "1/1 [==============================] - 0s 20ms/step\n",
            "1/1 [==============================] - 0s 21ms/step\n",
            "1/1 [==============================] - 0s 20ms/step\n",
            "1/1 [==============================] - 0s 32ms/step\n",
            "1/1 [==============================] - 0s 25ms/step\n",
            "1/1 [==============================] - 0s 20ms/step\n",
            "1/1 [==============================] - 0s 30ms/step\n",
            "1/1 [==============================] - 0s 20ms/step\n",
            "1/1 [==============================] - 0s 30ms/step\n",
            "1/1 [==============================] - 0s 20ms/step\n",
            "1/1 [==============================] - 0s 21ms/step\n",
            "1/1 [==============================] - 0s 20ms/step\n",
            "1/1 [==============================] - 0s 22ms/step\n",
            "1/1 [==============================] - 0s 21ms/step\n",
            "1/1 [==============================] - 0s 28ms/step\n",
            "1/1 [==============================] - 0s 23ms/step\n",
            "1/1 [==============================] - 0s 29ms/step\n",
            "1/1 [==============================] - 0s 21ms/step\n",
            "1/1 [==============================] - 0s 21ms/step\n",
            "1/1 [==============================] - 0s 28ms/step\n",
            "1/1 [==============================] - 0s 22ms/step\n",
            "1/1 [==============================] - 0s 21ms/step\n",
            "1/1 [==============================] - 0s 21ms/step\n",
            "Found 1000 images belonging to 2 classes.\n",
            "1/1 [==============================] - 0s 22ms/step\n",
            "1/1 [==============================] - 0s 21ms/step\n",
            "1/1 [==============================] - 0s 22ms/step\n",
            "1/1 [==============================] - 0s 23ms/step\n",
            "1/1 [==============================] - 0s 28ms/step\n",
            "1/1 [==============================] - 0s 20ms/step\n",
            "1/1 [==============================] - 0s 31ms/step\n",
            "1/1 [==============================] - 0s 20ms/step\n",
            "1/1 [==============================] - 0s 21ms/step\n",
            "1/1 [==============================] - 0s 20ms/step\n",
            "1/1 [==============================] - 0s 21ms/step\n",
            "1/1 [==============================] - 0s 21ms/step\n",
            "1/1 [==============================] - 0s 22ms/step\n",
            "1/1 [==============================] - 0s 33ms/step\n",
            "1/1 [==============================] - 0s 20ms/step\n",
            "1/1 [==============================] - 0s 21ms/step\n",
            "1/1 [==============================] - 0s 20ms/step\n",
            "1/1 [==============================] - 0s 21ms/step\n",
            "1/1 [==============================] - 0s 20ms/step\n",
            "1/1 [==============================] - 0s 20ms/step\n",
            "1/1 [==============================] - 0s 21ms/step\n",
            "1/1 [==============================] - 0s 21ms/step\n",
            "1/1 [==============================] - 0s 27ms/step\n",
            "1/1 [==============================] - 0s 21ms/step\n",
            "1/1 [==============================] - 0s 21ms/step\n",
            "1/1 [==============================] - 0s 20ms/step\n",
            "1/1 [==============================] - 0s 20ms/step\n",
            "1/1 [==============================] - 0s 20ms/step\n",
            "1/1 [==============================] - 0s 21ms/step\n",
            "1/1 [==============================] - 0s 23ms/step\n",
            "1/1 [==============================] - 0s 24ms/step\n",
            "1/1 [==============================] - 0s 21ms/step\n",
            "1/1 [==============================] - 0s 28ms/step\n",
            "1/1 [==============================] - 0s 24ms/step\n",
            "1/1 [==============================] - 0s 30ms/step\n",
            "1/1 [==============================] - 0s 30ms/step\n",
            "1/1 [==============================] - 0s 19ms/step\n",
            "1/1 [==============================] - 0s 29ms/step\n",
            "1/1 [==============================] - 0s 23ms/step\n",
            "1/1 [==============================] - 0s 21ms/step\n",
            "1/1 [==============================] - 0s 20ms/step\n",
            "1/1 [==============================] - 0s 31ms/step\n",
            "1/1 [==============================] - 0s 20ms/step\n",
            "1/1 [==============================] - 0s 28ms/step\n",
            "1/1 [==============================] - 0s 23ms/step\n",
            "1/1 [==============================] - 0s 31ms/step\n",
            "1/1 [==============================] - 0s 21ms/step\n",
            "1/1 [==============================] - 0s 28ms/step\n",
            "1/1 [==============================] - 0s 21ms/step\n",
            "1/1 [==============================] - 0s 20ms/step\n",
            "Found 1000 images belonging to 2 classes.\n",
            "1/1 [==============================] - 0s 44ms/step\n",
            "1/1 [==============================] - 0s 25ms/step\n",
            "1/1 [==============================] - 0s 19ms/step\n",
            "1/1 [==============================] - 0s 23ms/step\n",
            "1/1 [==============================] - 0s 23ms/step\n",
            "1/1 [==============================] - 0s 23ms/step\n",
            "1/1 [==============================] - 0s 20ms/step\n",
            "1/1 [==============================] - 0s 22ms/step\n",
            "1/1 [==============================] - 0s 19ms/step\n",
            "1/1 [==============================] - 0s 20ms/step\n",
            "1/1 [==============================] - 0s 21ms/step\n",
            "1/1 [==============================] - 0s 20ms/step\n",
            "1/1 [==============================] - 0s 19ms/step\n",
            "1/1 [==============================] - 0s 21ms/step\n",
            "1/1 [==============================] - 0s 21ms/step\n",
            "1/1 [==============================] - 0s 23ms/step\n",
            "1/1 [==============================] - 0s 19ms/step\n",
            "1/1 [==============================] - 0s 20ms/step\n",
            "1/1 [==============================] - 0s 20ms/step\n",
            "1/1 [==============================] - 0s 22ms/step\n",
            "1/1 [==============================] - 0s 20ms/step\n",
            "1/1 [==============================] - 0s 20ms/step\n",
            "1/1 [==============================] - 0s 23ms/step\n",
            "1/1 [==============================] - 0s 24ms/step\n",
            "1/1 [==============================] - 0s 20ms/step\n",
            "1/1 [==============================] - 0s 21ms/step\n",
            "1/1 [==============================] - 0s 22ms/step\n",
            "1/1 [==============================] - 0s 24ms/step\n",
            "1/1 [==============================] - 0s 21ms/step\n",
            "1/1 [==============================] - 0s 22ms/step\n",
            "1/1 [==============================] - 0s 21ms/step\n",
            "1/1 [==============================] - 0s 19ms/step\n",
            "1/1 [==============================] - 0s 20ms/step\n",
            "1/1 [==============================] - 0s 22ms/step\n",
            "1/1 [==============================] - 0s 21ms/step\n",
            "1/1 [==============================] - 0s 20ms/step\n",
            "1/1 [==============================] - 0s 25ms/step\n",
            "1/1 [==============================] - 0s 20ms/step\n",
            "1/1 [==============================] - 0s 29ms/step\n",
            "1/1 [==============================] - 0s 20ms/step\n",
            "1/1 [==============================] - 0s 20ms/step\n",
            "1/1 [==============================] - 0s 23ms/step\n",
            "1/1 [==============================] - 0s 21ms/step\n",
            "1/1 [==============================] - 0s 32ms/step\n",
            "1/1 [==============================] - 0s 43ms/step\n",
            "1/1 [==============================] - 0s 29ms/step\n",
            "1/1 [==============================] - 0s 33ms/step\n",
            "1/1 [==============================] - 0s 30ms/step\n",
            "1/1 [==============================] - 0s 30ms/step\n",
            "1/1 [==============================] - 0s 32ms/step\n"
          ]
        }
      ],
      "source": [
        "train_features, train_labels = extract_features(train_dir, 2000)\n",
        "validation_features, validation_labels = extract_features(validation_dir, 1000)\n",
        "test_features, test_labels = extract_features(test_dir, 1000)"
      ]
    },
    {
      "cell_type": "markdown",
      "metadata": {
        "id": "2eMOqJwvWeT5"
      },
      "source": [
        "The extracted features are currently of shape (samples, 4, 4, 512). We will feed them to a densely-connected classifier."
      ]
    },
    {
      "cell_type": "markdown",
      "metadata": {
        "id": "CXQc9O4JWeT5"
      },
      "source": [
        " Ex. 1.3 Define our densely-connected classifier. First, flatten the features to (samples, 8192). You can do it using reshape function or by adding a Flatten layer before the first Dense layer. Then use two densely-connected layers with the dropout for regularisation. The first layer will have 256 channels and a ReLU activation function. Dropout set to 0.5. The classification layer has a Sigmoid activation function.\n",
        "\n",
        "The model summary should look like this:"
      ]
    },
    {
      "cell_type": "code",
      "execution_count": null,
      "metadata": {
        "id": "FZrcnOPXWeT6",
        "outputId": "b04a186b-3e0a-4c24-c6fc-f7ea100005e9"
      },
      "outputs": [
        {
          "data": {
            "text/plain": [
              "'\\nLayer (type)                 Output Shape              Param #   \\n=================================================================\\ndense_55 (Dense)             (None, 256)               2097408   \\n_________________________________________________________________\\ndropout (Dropout)            (None, 256)               0         \\n_________________________________________________________________\\ndense_56 (Dense)             (None, 1)                 257       \\n=================================================================\\nTotal params: 2,097,665\\nTrainable params: 2,097,665\\nNon-trainable params: 0\\n'"
            ]
          },
          "execution_count": 8,
          "metadata": {},
          "output_type": "execute_result"
        }
      ],
      "source": [
        "\"\"\"\n",
        "Layer (type)                 Output Shape              Param #\n",
        "=================================================================\n",
        "dense_55 (Dense)             (None, 256)               2097408\n",
        "_________________________________________________________________\n",
        "dropout (Dropout)            (None, 256)               0\n",
        "_________________________________________________________________\n",
        "dense_56 (Dense)             (None, 1)                 257\n",
        "=================================================================\n",
        "Total params: 2,097,665\n",
        "Trainable params: 2,097,665\n",
        "Non-trainable params: 0\n",
        "\"\"\""
      ]
    },
    {
      "cell_type": "code",
      "execution_count": 9,
      "metadata": {
        "id": "dD2u1CMcWeT6"
      },
      "outputs": [],
      "source": [
        "from keras import models\n",
        "from keras import layers\n",
        "\n",
        "image_height, image_width, image_channels = 150, 150, 3\n",
        "\n",
        "model = models.Sequential()\n",
        "model.add(layers.Flatten(input_shape=(4, 4, 512)))\n",
        "model.add(layers.Dense(256, activation='relu')) # number_of_channels last conv2d\n",
        "model.add(layers.Dropout(0.5))\n",
        "model.add(layers.Dense(1, activation='sigmoid'))\n",
        "\n",
        "# ELSE ======================================================================================\n",
        "# model.add(data_augmentation)\n",
        "# model.add(layers.Rescaling(1/255, input_shape=(image_height, image_width, image_channels)))\n",
        "# model.add(layers.Conv2D(\n",
        "#     number_of_channels[0],\n",
        "#     (filterSizeConv2D[0],\n",
        "#      filterSizeConv2D[1]),\n",
        "#      activation='relu',\n",
        "#      input_shape=(image_height, image_width, image_channels)))\n",
        "# model.add(layers.MaxPooling2D((filterSizePooling2D[0], filterSizePooling2D[1])))\n",
        "# filterSizeConv2D = 3, 3\n",
        "# filterSizePooling2D = 2, 2\n",
        "# number_of_channels = 32, 64, 128, 128, 512"
      ]
    },
    {
      "cell_type": "code",
      "execution_count": 10,
      "metadata": {
        "colab": {
          "base_uri": "https://localhost:8080/"
        },
        "id": "ygVZwotqWeT6",
        "outputId": "3e1d6aba-152a-4e75-effe-edcd63d5b6a4"
      },
      "outputs": [
        {
          "name": "stdout",
          "output_type": "stream",
          "text": [
            "Model: \"sequential\"\n",
            "_________________________________________________________________\n",
            " Layer (type)                Output Shape              Param #   \n",
            "=================================================================\n",
            " flatten (Flatten)           (None, 8192)              0         \n",
            "                                                                 \n",
            " dense (Dense)               (None, 256)               2097408   \n",
            "                                                                 \n",
            " dropout (Dropout)           (None, 256)               0         \n",
            "                                                                 \n",
            " dense_1 (Dense)             (None, 1)                 257       \n",
            "                                                                 \n",
            "=================================================================\n",
            "Total params: 2097665 (8.00 MB)\n",
            "Trainable params: 2097665 (8.00 MB)\n",
            "Non-trainable params: 0 (0.00 Byte)\n",
            "_________________________________________________________________\n"
          ]
        }
      ],
      "source": [
        "model.summary()"
      ]
    },
    {
      "cell_type": "markdown",
      "metadata": {
        "id": "gWcvujdJWeT6"
      },
      "source": [
        "Ex. 1.4 Train the model using the following parameters:<br>\n",
        "RMSprop(lr=2e-5) optimizer,<br>\n",
        "Binary crossentropy loss function,<br>\n",
        "Accuracy metric.<br>\n"
      ]
    },
    {
      "cell_type": "code",
      "execution_count": 11,
      "metadata": {
        "id": "KoeSZHayWeT7"
      },
      "outputs": [],
      "source": [
        "optimizerRMSprop = keras.optimizers.RMSprop(learning_rate=2e-5)\n",
        "model.compile(optimizer=optimizerRMSprop,\n",
        "                loss='binary_crossentropy',\n",
        "                metrics=['accuracy'])"
      ]
    },
    {
      "cell_type": "markdown",
      "metadata": {
        "id": "OVuhgvxVWeT7"
      },
      "source": [
        "Ex. 1.5 Fit the model with 30 epochs, batch size 20, and validation data. Training is very fast since we only have to deal with two Dense layers.\n",
        "\n",
        "Expected outcome:"
      ]
    },
    {
      "cell_type": "code",
      "execution_count": 12,
      "metadata": {
        "colab": {
          "base_uri": "https://localhost:8080/"
        },
        "id": "Z2tnTHSzWeT7",
        "outputId": "c2582891-41e2-44ea-ba49-5a899b37b817"
      },
      "outputs": [
        {
          "name": "stdout",
          "output_type": "stream",
          "text": [
            "Epoch 1/30\n",
            "100/100 [==============================] - 3s 6ms/step - loss: 0.6037 - accuracy: 0.6590 - val_loss: 0.4418 - val_accuracy: 0.8470\n",
            "Epoch 2/30\n",
            "100/100 [==============================] - 0s 4ms/step - loss: 0.4310 - accuracy: 0.8115 - val_loss: 0.3691 - val_accuracy: 0.8480\n",
            "Epoch 3/30\n",
            "100/100 [==============================] - 0s 4ms/step - loss: 0.3614 - accuracy: 0.8450 - val_loss: 0.3259 - val_accuracy: 0.8750\n",
            "Epoch 4/30\n",
            "100/100 [==============================] - 0s 4ms/step - loss: 0.3139 - accuracy: 0.8735 - val_loss: 0.3035 - val_accuracy: 0.8810\n",
            "Epoch 5/30\n",
            "100/100 [==============================] - 0s 4ms/step - loss: 0.3002 - accuracy: 0.8700 - val_loss: 0.2893 - val_accuracy: 0.8840\n",
            "Epoch 6/30\n",
            "100/100 [==============================] - 0s 4ms/step - loss: 0.2675 - accuracy: 0.8985 - val_loss: 0.2789 - val_accuracy: 0.8870\n",
            "Epoch 7/30\n",
            "100/100 [==============================] - 0s 4ms/step - loss: 0.2500 - accuracy: 0.9030 - val_loss: 0.2812 - val_accuracy: 0.8830\n",
            "Epoch 8/30\n",
            "100/100 [==============================] - 0s 4ms/step - loss: 0.2354 - accuracy: 0.9075 - val_loss: 0.2626 - val_accuracy: 0.8940\n",
            "Epoch 9/30\n",
            "100/100 [==============================] - 1s 6ms/step - loss: 0.2194 - accuracy: 0.9140 - val_loss: 0.2574 - val_accuracy: 0.8980\n",
            "Epoch 10/30\n",
            "100/100 [==============================] - 1s 6ms/step - loss: 0.2116 - accuracy: 0.9140 - val_loss: 0.2587 - val_accuracy: 0.8940\n",
            "Epoch 11/30\n",
            "100/100 [==============================] - 1s 6ms/step - loss: 0.2054 - accuracy: 0.9210 - val_loss: 0.2527 - val_accuracy: 0.8990\n",
            "Epoch 12/30\n",
            "100/100 [==============================] - 1s 5ms/step - loss: 0.1896 - accuracy: 0.9305 - val_loss: 0.2488 - val_accuracy: 0.9010\n",
            "Epoch 13/30\n",
            "100/100 [==============================] - 1s 5ms/step - loss: 0.1847 - accuracy: 0.9335 - val_loss: 0.2497 - val_accuracy: 0.8990\n",
            "Epoch 14/30\n",
            "100/100 [==============================] - 1s 5ms/step - loss: 0.1832 - accuracy: 0.9325 - val_loss: 0.2429 - val_accuracy: 0.9060\n",
            "Epoch 15/30\n",
            "100/100 [==============================] - 1s 6ms/step - loss: 0.1676 - accuracy: 0.9380 - val_loss: 0.2413 - val_accuracy: 0.9060\n",
            "Epoch 16/30\n",
            "100/100 [==============================] - 1s 6ms/step - loss: 0.1632 - accuracy: 0.9450 - val_loss: 0.2553 - val_accuracy: 0.8930\n",
            "Epoch 17/30\n",
            "100/100 [==============================] - 1s 5ms/step - loss: 0.1543 - accuracy: 0.9485 - val_loss: 0.2381 - val_accuracy: 0.9050\n",
            "Epoch 18/30\n",
            "100/100 [==============================] - 1s 6ms/step - loss: 0.1439 - accuracy: 0.9510 - val_loss: 0.2370 - val_accuracy: 0.9080\n",
            "Epoch 19/30\n",
            "100/100 [==============================] - 1s 5ms/step - loss: 0.1460 - accuracy: 0.9485 - val_loss: 0.2386 - val_accuracy: 0.9080\n",
            "Epoch 20/30\n",
            "100/100 [==============================] - 0s 4ms/step - loss: 0.1349 - accuracy: 0.9550 - val_loss: 0.2361 - val_accuracy: 0.9060\n",
            "Epoch 21/30\n",
            "100/100 [==============================] - 0s 4ms/step - loss: 0.1323 - accuracy: 0.9530 - val_loss: 0.2356 - val_accuracy: 0.9070\n",
            "Epoch 22/30\n",
            "100/100 [==============================] - 0s 4ms/step - loss: 0.1281 - accuracy: 0.9550 - val_loss: 0.2350 - val_accuracy: 0.9090\n",
            "Epoch 23/30\n",
            "100/100 [==============================] - 0s 4ms/step - loss: 0.1291 - accuracy: 0.9585 - val_loss: 0.2486 - val_accuracy: 0.8980\n",
            "Epoch 24/30\n",
            "100/100 [==============================] - 0s 4ms/step - loss: 0.1145 - accuracy: 0.9640 - val_loss: 0.2390 - val_accuracy: 0.9060\n",
            "Epoch 25/30\n",
            "100/100 [==============================] - 1s 5ms/step - loss: 0.1195 - accuracy: 0.9595 - val_loss: 0.2409 - val_accuracy: 0.9030\n",
            "Epoch 26/30\n",
            "100/100 [==============================] - 0s 4ms/step - loss: 0.1111 - accuracy: 0.9605 - val_loss: 0.2368 - val_accuracy: 0.9050\n",
            "Epoch 27/30\n",
            "100/100 [==============================] - 0s 5ms/step - loss: 0.1042 - accuracy: 0.9670 - val_loss: 0.2433 - val_accuracy: 0.9030\n",
            "Epoch 28/30\n",
            "100/100 [==============================] - 0s 4ms/step - loss: 0.1077 - accuracy: 0.9625 - val_loss: 0.2343 - val_accuracy: 0.9080\n",
            "Epoch 29/30\n",
            "100/100 [==============================] - 0s 4ms/step - loss: 0.1013 - accuracy: 0.9705 - val_loss: 0.2398 - val_accuracy: 0.9080\n",
            "Epoch 30/30\n",
            "100/100 [==============================] - 0s 5ms/step - loss: 0.0970 - accuracy: 0.9710 - val_loss: 0.2430 - val_accuracy: 0.9040\n"
          ]
        }
      ],
      "source": [
        "history = model.fit(\n",
        "      train_features,\n",
        "      train_labels,\n",
        "      steps_per_epoch=100,\n",
        "      epochs=30,\n",
        "      validation_data=(validation_features, validation_labels),\n",
        "      validation_steps=50,\n",
        "      batch_size=20)"
      ]
    },
    {
      "cell_type": "code",
      "execution_count": 13,
      "metadata": {
        "colab": {
          "base_uri": "https://localhost:8080/",
          "height": 927
        },
        "id": "qu9OplCQWeT7",
        "outputId": "047a7aca-043d-4324-d12f-f28d7d57190b"
      },
      "outputs": [
        {
          "data": {
            "image/png": "[encoded data removed]",
            "text/plain": [
              "<Figure size 640x480 with 1 Axes>"
            ]
          },
          "metadata": {},
          "output_type": "display_data"
        },
        {
          "data": {
            "image/png": "[encoded data removed]",
            "text/plain": [
              "<Figure size 640x480 with 1 Axes>"
            ]
          },
          "metadata": {},
          "output_type": "display_data"
        }
      ],
      "source": [
        "history_dict = history.history\n",
        "history_dict.keys()\n",
        "\n",
        "# summarize history for accuracy\n",
        "plt.plot(history.history['accuracy'])\n",
        "plt.plot(history.history['val_accuracy'])\n",
        "plt.title('model accuracy')\n",
        "plt.ylabel('accuracy')\n",
        "plt.xlabel('epoch')\n",
        "plt.legend(['train', 'test'], loc='upper left')\n",
        "plt.grid()\n",
        "plt.show()\n",
        "\n",
        "# summarize history for loss\n",
        "plt.plot(history.history['loss'])\n",
        "plt.plot(history.history['val_loss'])\n",
        "plt.title('model loss')\n",
        "plt.ylabel('loss')\n",
        "plt.xlabel('epoch')\n",
        "plt.legend(['train', 'test'], loc='best')\n",
        "plt.grid()\n",
        "plt.show()"
      ]
    },
    {
      "cell_type": "markdown",
      "metadata": {
        "id": "QCP8g2lSWeT8"
      },
      "source": [
        "Ex. 1.6 Plot the loss and accuracy curves during training.\n",
        "\n",
        "We reach a validation accuracy of about 90%, much better than what we could achieve in the previous section with our small model trained from scratch. However, the overfitting problem is still there…"
      ]
    },
    {
      "cell_type": "markdown",
      "metadata": {
        "id": "aUpO_HGoWeT8"
      },
      "source": [
        "## Pre-trained part as an extended layer\n",
        "\n",
        "The second technique is much slower and more expensive, but allows us to leverage data augmentation during training: extending the conv_base model and running it end-to-end on the inputs. Note that this technique is in fact so expensive that you should only attempt it if you have access to a GPU: it is absolutely intractable on CPU. If you cannot run your code on GPU, then the previous technique is the way to go."
      ]
    },
    {
      "cell_type": "markdown",
      "metadata": {
        "id": "cic1SYRoWeT8"
      },
      "source": [
        "Because models behave just like layers, you can add a model (like our conv_base) to a Sequential model just like you would add a layer. So you can do the following:"
      ]
    },
    {
      "cell_type": "code",
      "execution_count": 14,
      "metadata": {
        "id": "sqoGfxEQWeT8"
      },
      "outputs": [],
      "source": [
        "from tensorflow.keras import models\n",
        "from tensorflow.keras import layers\n",
        "\n",
        "model = models.Sequential()\n",
        "model.add(conv_base)\n",
        "model.add(layers.Flatten())\n",
        "model.add(layers.Dense(256, activation='relu'))\n",
        "model.add(layers.Dense(1, activation='sigmoid'))"
      ]
    },
    {
      "cell_type": "code",
      "execution_count": 15,
      "metadata": {
        "colab": {
          "base_uri": "https://localhost:8080/"
        },
        "id": "zfKrpWk1WeT8",
        "outputId": "fff231a9-96c3-4324-db1f-37c4efe3b4d7"
      },
      "outputs": [
        {
          "name": "stdout",
          "output_type": "stream",
          "text": [
            "Model: \"sequential_1\"\n",
            "_________________________________________________________________\n",
            " Layer (type)                Output Shape              Param #   \n",
            "=================================================================\n",
            " vgg16 (Functional)          (None, 4, 4, 512)         14714688  \n",
            "                                                                 \n",
            " flatten_1 (Flatten)         (None, 8192)              0         \n",
            "                                                                 \n",
            " dense_2 (Dense)             (None, 256)               2097408   \n",
            "                                                                 \n",
            " dense_3 (Dense)             (None, 1)                 257       \n",
            "                                                                 \n",
            "=================================================================\n",
            "Total params: 16812353 (64.13 MB)\n",
            "Trainable params: 16812353 (64.13 MB)\n",
            "Non-trainable params: 0 (0.00 Byte)\n",
            "_________________________________________________________________\n"
          ]
        }
      ],
      "source": [
        "model.summary()"
      ]
    },
    {
      "cell_type": "markdown",
      "metadata": {
        "id": "TJoJDkKvWeT9"
      },
      "source": [
        "Ex. 2.1 Please analyse the model summary. How many parameters do you have now ? How many parameters are trainable?\n",
        "Before we compile and train our model, a very important thing to do is to freeze the convolutional base. “Freezing” a layer or set of layers means preventing their weights from getting updated during training. If we don't do this, then the representations that were previously learned by the convolutional base would get modified during training. Since the Dense layers on top are randomly initialized, very large weight updates would be propagated through the network, effectively destroying the representations previously learned."
      ]
    },
    {
      "cell_type": "markdown",
      "metadata": {
        "id": "w-oazVvLWeT9"
      },
      "source": [
        "In Keras, freezing a network is done by setting its trainable attribute to False:"
      ]
    },
    {
      "cell_type": "code",
      "execution_count": 16,
      "metadata": {
        "colab": {
          "base_uri": "https://localhost:8080/"
        },
        "id": "q2pzqA75WeT9",
        "outputId": "a06ff719-85e6-45b0-89d3-ff412b434cb4"
      },
      "outputs": [
        {
          "name": "stdout",
          "output_type": "stream",
          "text": [
            "This is the number of trainable weights before freezing the conv base: 30\n"
          ]
        }
      ],
      "source": [
        "print('This is the number of trainable weights '\n",
        "      'before freezing the conv base:', len(model.trainable_weights))"
      ]
    },
    {
      "cell_type": "markdown",
      "metadata": {
        "id": "OZRHcxVVWeT9"
      },
      "source": [
        "This is the number of trainable weights before freezing the conv base: 30"
      ]
    },
    {
      "cell_type": "code",
      "execution_count": 17,
      "metadata": {
        "colab": {
          "base_uri": "https://localhost:8080/"
        },
        "id": "10UC5AC4WeT9",
        "outputId": "6caa7278-bc95-4b84-c848-477d2e27f34f"
      },
      "outputs": [
        {
          "name": "stdout",
          "output_type": "stream",
          "text": [
            "This is the number of trainable weights after freezing the conv base: 4\n"
          ]
        }
      ],
      "source": [
        "conv_base.trainable = False\n",
        "\n",
        "print('This is the number of trainable weights '\n",
        "      'after freezing the conv base:', len(model.trainable_weights))"
      ]
    },
    {
      "cell_type": "markdown",
      "metadata": {
        "id": "aLUl9uFkWeT-"
      },
      "source": [
        "With this setup, only the weights from the two Dense layers that we added will be trained. That's a total of four weight tensors: two per layer (the main weight matrix and the bias vector). Note that in order for these changes to take effect, we must first compile the model. If you ever modify weight trainability after compilation, you should then re-compile the model, or these changes would be ignored."
      ]
    },
    {
      "cell_type": "markdown",
      "metadata": {
        "id": "bY9kOTOPWeT-"
      },
      "source": [
        "Ex. 2.2 Implement and fit the model like in the previous labs (with data augmentation). If the process takes too much time, please instead read saved model from the following repository:Model. Check the summary."
      ]
    },
    {
      "cell_type": "code",
      "execution_count": 18,
      "metadata": {
        "colab": {
          "base_uri": "https://localhost:8080/"
        },
        "id": "mZ0Odx6gWeT-",
        "outputId": "b1c8d176-677e-4d1e-9898-6584dc8413a3"
      },
      "outputs": [
        {
          "name": "stdout",
          "output_type": "stream",
          "text": [
            "Found 2000 images belonging to 2 classes.\n",
            "Found 1000 images belonging to 2 classes.\n"
          ]
        },
        {
          "name": "stderr",
          "output_type": "stream",
          "text": [
            "WARNING:absl:`lr` is deprecated in Keras optimizer, please use `learning_rate` or use the legacy optimizer, e.g.,tf.keras.optimizers.legacy.RMSprop.\n"
          ]
        }
      ],
      "source": [
        "from keras.preprocessing.image import ImageDataGenerator\n",
        "\n",
        "train_datagen = ImageDataGenerator(\n",
        "      rescale=1./255,\n",
        "      rotation_range=40,\n",
        "      width_shift_range=0.2,\n",
        "      height_shift_range=0.2,\n",
        "      shear_range=0.2,\n",
        "      zoom_range=0.2,\n",
        "      horizontal_flip=True,\n",
        "      fill_mode='nearest')\n",
        "\n",
        "# Note that the validation data should not be augmented!\n",
        "test_datagen = ImageDataGenerator(rescale=1./255)\n",
        "\n",
        "train_generator = train_datagen.flow_from_directory(\n",
        "        # This is the target directory\n",
        "        train_dir,\n",
        "        # All images will be resized to 150x150\n",
        "        target_size=(150, 150),\n",
        "        batch_size=20,\n",
        "        # Since we use binary_crossentropy loss, we need binary labels\n",
        "        class_mode='binary')\n",
        "\n",
        "validation_generator = test_datagen.flow_from_directory(\n",
        "        validation_dir,\n",
        "        target_size=(150, 150),\n",
        "        batch_size=20,\n",
        "        class_mode='binary')\n",
        "\n",
        "model.compile(loss='binary_crossentropy',\n",
        "              optimizer=keras.optimizers.RMSprop(lr=2e-5),\n",
        "              metrics=['acc'])"
      ]
    },
    {
      "cell_type": "code",
      "execution_count": 19,
      "metadata": {
        "colab": {
          "base_uri": "https://localhost:8080/"
        },
        "id": "z-qmU6zYWeT-",
        "outputId": "73c75a34-47f7-46e1-a776-d1de3a989b55"
      },
      "outputs": [
        {
          "name": "stderr",
          "output_type": "stream",
          "text": [
            "<ipython-input-19-8c1a8a6f98a4>:1: UserWarning: `Model.fit_generator` is deprecated and will be removed in a future version. Please use `Model.fit`, which supports generators.\n",
            "  history = model.fit_generator(\n"
          ]
        },
        {
          "name": "stdout",
          "output_type": "stream",
          "text": [
            "Epoch 1/30\n",
            "100/100 - 30s - loss: 0.8381 - acc: 0.6725 - val_loss: 0.3738 - val_acc: 0.8220 - 30s/epoch - 296ms/step\n",
            "Epoch 2/30\n",
            "100/100 - 22s - loss: 0.4384 - acc: 0.7880 - val_loss: 0.3479 - val_acc: 0.8420 - 22s/epoch - 216ms/step\n",
            "Epoch 3/30\n",
            "100/100 - 21s - loss: 0.4094 - acc: 0.8120 - val_loss: 0.2644 - val_acc: 0.8900 - 21s/epoch - 213ms/step\n",
            "Epoch 4/30\n",
            "100/100 - 23s - loss: 0.3863 - acc: 0.8280 - val_loss: 0.3118 - val_acc: 0.8620 - 23s/epoch - 230ms/step\n",
            "Epoch 5/30\n",
            "100/100 - 23s - loss: 0.3553 - acc: 0.8455 - val_loss: 0.2609 - val_acc: 0.8880 - 23s/epoch - 233ms/step\n",
            "Epoch 6/30\n",
            "100/100 - 21s - loss: 0.3663 - acc: 0.8300 - val_loss: 0.2674 - val_acc: 0.8860 - 21s/epoch - 213ms/step\n",
            "Epoch 7/30\n",
            "100/100 - 23s - loss: 0.3162 - acc: 0.8575 - val_loss: 0.2730 - val_acc: 0.8940 - 23s/epoch - 233ms/step\n",
            "Epoch 8/30\n",
            "100/100 - 22s - loss: 0.3477 - acc: 0.8475 - val_loss: 0.2541 - val_acc: 0.8980 - 22s/epoch - 216ms/step\n",
            "Epoch 9/30\n",
            "100/100 - 23s - loss: 0.3369 - acc: 0.8545 - val_loss: 0.2464 - val_acc: 0.8980 - 23s/epoch - 228ms/step\n",
            "Epoch 10/30\n",
            "100/100 - 21s - loss: 0.3288 - acc: 0.8545 - val_loss: 0.2458 - val_acc: 0.8970 - 21s/epoch - 213ms/step\n",
            "Epoch 11/30\n",
            "100/100 - 22s - loss: 0.3287 - acc: 0.8560 - val_loss: 0.2423 - val_acc: 0.9010 - 22s/epoch - 224ms/step\n",
            "Epoch 12/30\n",
            "100/100 - 21s - loss: 0.3234 - acc: 0.8555 - val_loss: 0.2616 - val_acc: 0.8970 - 21s/epoch - 215ms/step\n",
            "Epoch 13/30\n",
            "100/100 - 21s - loss: 0.3129 - acc: 0.8645 - val_loss: 0.2724 - val_acc: 0.8800 - 21s/epoch - 214ms/step\n",
            "Epoch 14/30\n",
            "100/100 - 22s - loss: 0.3047 - acc: 0.8655 - val_loss: 0.2462 - val_acc: 0.8990 - 22s/epoch - 223ms/step\n",
            "Epoch 15/30\n",
            "100/100 - 22s - loss: 0.3103 - acc: 0.8620 - val_loss: 0.2906 - val_acc: 0.8760 - 22s/epoch - 217ms/step\n",
            "Epoch 16/30\n",
            "100/100 - 22s - loss: 0.2907 - acc: 0.8785 - val_loss: 0.2565 - val_acc: 0.8940 - 22s/epoch - 220ms/step\n",
            "Epoch 17/30\n",
            "100/100 - 22s - loss: 0.3003 - acc: 0.8700 - val_loss: 0.2517 - val_acc: 0.8980 - 22s/epoch - 217ms/step\n",
            "Epoch 18/30\n",
            "100/100 - 22s - loss: 0.2931 - acc: 0.8780 - val_loss: 0.2625 - val_acc: 0.8920 - 22s/epoch - 222ms/step\n",
            "Epoch 19/30\n",
            "100/100 - 21s - loss: 0.2869 - acc: 0.8750 - val_loss: 0.2777 - val_acc: 0.8820 - 21s/epoch - 215ms/step\n",
            "Epoch 20/30\n",
            "100/100 - 21s - loss: 0.2900 - acc: 0.8750 - val_loss: 0.2498 - val_acc: 0.8990 - 21s/epoch - 212ms/step\n",
            "Epoch 21/30\n",
            "100/100 - 21s - loss: 0.3030 - acc: 0.8690 - val_loss: 0.2389 - val_acc: 0.9020 - 21s/epoch - 213ms/step\n",
            "Epoch 22/30\n",
            "100/100 - 21s - loss: 0.2781 - acc: 0.8820 - val_loss: 0.3231 - val_acc: 0.8710 - 21s/epoch - 215ms/step\n",
            "Epoch 23/30\n",
            "100/100 - 21s - loss: 0.2706 - acc: 0.8790 - val_loss: 0.2567 - val_acc: 0.8990 - 21s/epoch - 210ms/step\n",
            "Epoch 24/30\n",
            "100/100 - 23s - loss: 0.2668 - acc: 0.8830 - val_loss: 0.4104 - val_acc: 0.8300 - 23s/epoch - 235ms/step\n",
            "Epoch 25/30\n",
            "100/100 - 21s - loss: 0.2773 - acc: 0.8780 - val_loss: 0.2537 - val_acc: 0.8860 - 21s/epoch - 214ms/step\n",
            "Epoch 26/30\n",
            "100/100 - 23s - loss: 0.2734 - acc: 0.8825 - val_loss: 0.2577 - val_acc: 0.8890 - 23s/epoch - 234ms/step\n",
            "Epoch 27/30\n",
            "100/100 - 22s - loss: 0.2789 - acc: 0.8825 - val_loss: 0.2682 - val_acc: 0.8820 - 22s/epoch - 216ms/step\n",
            "Epoch 28/30\n",
            "100/100 - 21s - loss: 0.2656 - acc: 0.8885 - val_loss: 0.3016 - val_acc: 0.8860 - 21s/epoch - 215ms/step\n",
            "Epoch 29/30\n",
            "100/100 - 23s - loss: 0.2541 - acc: 0.8905 - val_loss: 0.2527 - val_acc: 0.8980 - 23s/epoch - 225ms/step\n",
            "Epoch 30/30\n",
            "100/100 - 21s - loss: 0.2607 - acc: 0.8890 - val_loss: 0.2539 - val_acc: 0.8910 - 21s/epoch - 211ms/step\n"
          ]
        }
      ],
      "source": [
        "history = model.fit_generator(\n",
        "      train_generator,\n",
        "      steps_per_epoch=100,\n",
        "      epochs=30,\n",
        "      validation_data=validation_generator,\n",
        "      validation_steps=50,\n",
        "      verbose=2)"
      ]
    },
    {
      "cell_type": "code",
      "execution_count": 23,
      "metadata": {
        "colab": {
          "base_uri": "https://localhost:8080/",
          "height": 472
        },
        "id": "-Ri8aZI1WeT_",
        "outputId": "172412ce-4dd6-4c9d-c961-5cc1bdc2b916"
      },
      "outputs": [
        {
          "data": {
            "image/png": "[encoded data removed]",
            "text/plain": [
              "<Figure size 640x480 with 1 Axes>"
            ]
          },
          "metadata": {},
          "output_type": "display_data"
        }
      ],
      "source": [
        "history_dict = history.history\n",
        "history_dict.keys()\n",
        "\n",
        "# summarize history for accuracy\n",
        "# plt.plot(history.history['accuracy'])\n",
        "# plt.plot(history.history['val_accuracy'])\n",
        "# plt.title('model accuracy')\n",
        "# plt.ylabel('accuracy')\n",
        "# plt.xlabel('epoch')\n",
        "# plt.legend(['train', 'test'], loc='upper left')\n",
        "# plt.grid()\n",
        "# plt.show()\n",
        "\n",
        "# summarize history for loss\n",
        "plt.plot(history.history['loss'])\n",
        "plt.plot(history.history['val_loss'])\n",
        "plt.title('model loss')\n",
        "plt.ylabel('loss')\n",
        "plt.xlabel('epoch')\n",
        "plt.legend(['train', 'test'], loc='best')\n",
        "plt.grid()\n",
        "plt.show()"
      ]
    },
    {
      "cell_type": "markdown",
      "metadata": {
        "id": "JSk0jbPlWeT_"
      },
      "source": [
        "## Fine-tuning\n",
        "\n",
        "Another widely used technique for model reuse, complementary to feature extraction, is fine-tuning. Fine-tuning consists of unfreezing a few of the top layers of a frozen model base used for feature extraction, and jointly training both the newly added part of the model (in our case, the fully-connected classifier) and these top layers. This is called “fine-tuning” because it slightly adjusts the more abstract representations of the model being reused, in order to make them more relevant for the problem at hand.\n",
        "\n",
        "Please have a look at the VGG-16 architecture |VGG-16\n",
        "\n",
        "We have stated before that it was necessary to freeze the convolution base of VGG16 in order to be able to train a randomly initialized classifier on top. For the same reason, it is only possible to fine-tune the top layers of the convolutional base once the classifier on top has already been trained. If the classified wasn't already trained, then the error signal propagating through the network during training would be too large, and the representations previously learned by the layers being fine-tuned would be destroyed. Thus the steps for fine-tuning a network are as follow:\n",
        "1) Add your custom network on top of an already trained base network.\n",
        "2) Freeze the base network.\n",
        "3) Train the part you added.\n",
        "4) Unfreeze some layers in the base network.\n",
        "5) Jointly train both these layers and the part you added.\n",
        "\n",
        "We have already completed the first 3 steps when doing feature extraction. Let's proceed with the 4th step: we will unfreeze our conv_base, and then freeze individual layers inside of it."
      ]
    },
    {
      "cell_type": "code",
      "execution_count": 24,
      "metadata": {
        "id": "uT1v9l_iWeUD"
      },
      "outputs": [],
      "source": [
        "from keras import models\n",
        "from keras import layers\n",
        "\n",
        "# model = models.Sequential()\n",
        "# model.add(layers.Flatten(input_shape=(4, 4, 512)))\n",
        "# model.add(layers.Dense(256, activation='relu')) # number_of_channels last conv2d\n",
        "# model.add(layers.Dropout(0.5))\n",
        "# model.add(layers.Dense(1, activation='sigmoid'))\n",
        "\n",
        "# -----------------------------------------------------------------\n",
        "model = models.Sequential()\n",
        "model.add(conv_base)\n",
        "model.add(layers.Flatten())\n",
        "model.add(layers.Dense(256, activation='relu'))\n",
        "model.add(layers.Dense(1, activation='sigmoid'))\n"
      ]
    },
    {
      "cell_type": "code",
      "execution_count": 25,
      "metadata": {
        "colab": {
          "base_uri": "https://localhost:8080/"
        },
        "id": "lJ8-QgZAWeUD",
        "outputId": "a9d5f78a-513e-45b6-f88f-9988a1a17971"
      },
      "outputs": [
        {
          "name": "stdout",
          "output_type": "stream",
          "text": [
            "Model: \"sequential_2\"\n",
            "_________________________________________________________________\n",
            " Layer (type)                Output Shape              Param #   \n",
            "=================================================================\n",
            " vgg16 (Functional)          (None, 4, 4, 512)         14714688  \n",
            "                                                                 \n",
            " flatten_2 (Flatten)         (None, 8192)              0         \n",
            "                                                                 \n",
            " dense_4 (Dense)             (None, 256)               2097408   \n",
            "                                                                 \n",
            " dense_5 (Dense)             (None, 1)                 257       \n",
            "                                                                 \n",
            "=================================================================\n",
            "Total params: 16812353 (64.13 MB)\n",
            "Trainable params: 2097665 (8.00 MB)\n",
            "Non-trainable params: 14714688 (56.13 MB)\n",
            "_________________________________________________________________\n"
          ]
        }
      ],
      "source": [
        "model.summary()"
      ]
    },
    {
      "cell_type": "code",
      "execution_count": 26,
      "metadata": {
        "colab": {
          "base_uri": "https://localhost:8080/"
        },
        "id": "zJddz165WeUD",
        "outputId": "3f60e8fe-aab5-4909-ea7d-2f90c1139555"
      },
      "outputs": [
        {
          "name": "stdout",
          "output_type": "stream",
          "text": [
            "This is the number of trainable weights before freezing the conv base: 4\n"
          ]
        }
      ],
      "source": [
        "print('This is the number of trainable weights '\n",
        "      'before freezing the conv base:', len(model.trainable_weights))"
      ]
    },
    {
      "cell_type": "code",
      "execution_count": 27,
      "metadata": {
        "colab": {
          "base_uri": "https://localhost:8080/"
        },
        "id": "uxuRud17WeUD",
        "outputId": "f78c7f53-9cff-4e67-a78e-f20bd250591b"
      },
      "outputs": [
        {
          "name": "stdout",
          "output_type": "stream",
          "text": [
            "This is the number of trainable weights after freezing the conv base: 4\n"
          ]
        }
      ],
      "source": [
        "conv_base.trainable = False\n",
        "\n",
        "print('This is the number of trainable weights '\n",
        "      'after freezing the conv base:', len(model.trainable_weights))"
      ]
    },
    {
      "cell_type": "code",
      "execution_count": 28,
      "metadata": {
        "colab": {
          "base_uri": "https://localhost:8080/"
        },
        "id": "4A6VvcZFWeUE",
        "outputId": "1b5993ab-d5a7-40e5-ae78-a2ada7b310ae"
      },
      "outputs": [
        {
          "name": "stdout",
          "output_type": "stream",
          "text": [
            "Found 2000 images belonging to 2 classes.\n",
            "Found 1000 images belonging to 2 classes.\n"
          ]
        },
        {
          "name": "stderr",
          "output_type": "stream",
          "text": [
            "WARNING:absl:`lr` is deprecated in Keras optimizer, please use `learning_rate` or use the legacy optimizer, e.g.,tf.keras.optimizers.legacy.RMSprop.\n"
          ]
        }
      ],
      "source": [
        "from keras.preprocessing.image import ImageDataGenerator\n",
        "\n",
        "train_datagen = ImageDataGenerator(\n",
        "      rescale=1./255,\n",
        "      rotation_range=40,\n",
        "      width_shift_range=0.2,\n",
        "      height_shift_range=0.2,\n",
        "      shear_range=0.2,\n",
        "      zoom_range=0.2,\n",
        "      horizontal_flip=True,\n",
        "      fill_mode='nearest')\n",
        "\n",
        "# Note that the validation data should not be augmented!\n",
        "test_datagen = ImageDataGenerator(rescale=1./255)\n",
        "\n",
        "train_generator = train_datagen.flow_from_directory(\n",
        "        # This is the target directory\n",
        "        train_dir,\n",
        "        # All images will be resized to 150x150\n",
        "        target_size=(150, 150),\n",
        "        batch_size=20,\n",
        "        # Since we use binary_crossentropy loss, we need binary labels\n",
        "        class_mode='binary')\n",
        "\n",
        "validation_generator = test_datagen.flow_from_directory(\n",
        "        validation_dir,\n",
        "        target_size=(150, 150),\n",
        "        batch_size=20,\n",
        "        class_mode='binary')\n",
        "\n",
        "model.compile(loss='binary_crossentropy',\n",
        "              optimizer=keras.optimizers.RMSprop(lr=2e-5),\n",
        "              metrics=['acc'])"
      ]
    },
    {
      "cell_type": "code",
      "execution_count": 29,
      "metadata": {
        "colab": {
          "base_uri": "https://localhost:8080/"
        },
        "id": "kZyfhOWDWeUE",
        "outputId": "341f28f2-9d56-412b-c83d-b636facbdeee"
      },
      "outputs": [
        {
          "name": "stderr",
          "output_type": "stream",
          "text": [
            "<ipython-input-29-5ad7162e971f>:1: UserWarning: `Model.fit_generator` is deprecated and will be removed in a future version. Please use `Model.fit`, which supports generators.\n",
            "  history = model.fit_generator(\n"
          ]
        },
        {
          "name": "stdout",
          "output_type": "stream",
          "text": [
            "Epoch 1/30\n",
            "100/100 - 25s - loss: 0.6433 - acc: 0.6915 - val_loss: 0.3962 - val_acc: 0.8190 - 25s/epoch - 249ms/step\n",
            "Epoch 2/30\n",
            "100/100 - 21s - loss: 0.4370 - acc: 0.7925 - val_loss: 0.2990 - val_acc: 0.8780 - 21s/epoch - 212ms/step\n",
            "Epoch 3/30\n",
            "100/100 - 22s - loss: 0.4168 - acc: 0.8045 - val_loss: 0.2892 - val_acc: 0.8780 - 22s/epoch - 222ms/step\n",
            "Epoch 4/30\n",
            "100/100 - 21s - loss: 0.3757 - acc: 0.8285 - val_loss: 0.2591 - val_acc: 0.8920 - 21s/epoch - 211ms/step\n",
            "Epoch 5/30\n",
            "100/100 - 24s - loss: 0.3847 - acc: 0.8250 - val_loss: 0.2784 - val_acc: 0.8840 - 24s/epoch - 236ms/step\n",
            "Epoch 6/30\n",
            "100/100 - 21s - loss: 0.3622 - acc: 0.8365 - val_loss: 0.2714 - val_acc: 0.8830 - 21s/epoch - 215ms/step\n",
            "Epoch 7/30\n",
            "100/100 - 21s - loss: 0.3450 - acc: 0.8460 - val_loss: 0.2660 - val_acc: 0.8870 - 21s/epoch - 211ms/step\n",
            "Epoch 8/30\n",
            "100/100 - 21s - loss: 0.3348 - acc: 0.8515 - val_loss: 0.2481 - val_acc: 0.8950 - 21s/epoch - 214ms/step\n",
            "Epoch 9/30\n",
            "100/100 - 24s - loss: 0.3313 - acc: 0.8520 - val_loss: 0.2529 - val_acc: 0.8980 - 24s/epoch - 240ms/step\n",
            "Epoch 10/30\n",
            "100/100 - 21s - loss: 0.3279 - acc: 0.8565 - val_loss: 0.2449 - val_acc: 0.9000 - 21s/epoch - 211ms/step\n",
            "Epoch 11/30\n",
            "100/100 - 24s - loss: 0.3136 - acc: 0.8590 - val_loss: 0.2613 - val_acc: 0.8850 - 24s/epoch - 239ms/step\n",
            "Epoch 12/30\n",
            "100/100 - 21s - loss: 0.3095 - acc: 0.8700 - val_loss: 0.2599 - val_acc: 0.8920 - 21s/epoch - 212ms/step\n",
            "Epoch 13/30\n",
            "100/100 - 21s - loss: 0.3025 - acc: 0.8635 - val_loss: 0.2743 - val_acc: 0.8940 - 21s/epoch - 213ms/step\n",
            "Epoch 14/30\n",
            "100/100 - 24s - loss: 0.2929 - acc: 0.8755 - val_loss: 0.3289 - val_acc: 0.8660 - 24s/epoch - 240ms/step\n",
            "Epoch 15/30\n",
            "100/100 - 21s - loss: 0.2950 - acc: 0.8655 - val_loss: 0.2467 - val_acc: 0.9020 - 21s/epoch - 213ms/step\n",
            "Epoch 16/30\n",
            "100/100 - 24s - loss: 0.2971 - acc: 0.8670 - val_loss: 0.2430 - val_acc: 0.9060 - 24s/epoch - 241ms/step\n",
            "Epoch 17/30\n",
            "100/100 - 21s - loss: 0.2785 - acc: 0.8790 - val_loss: 0.2569 - val_acc: 0.9010 - 21s/epoch - 213ms/step\n",
            "Epoch 18/30\n",
            "100/100 - 21s - loss: 0.2874 - acc: 0.8760 - val_loss: 0.3767 - val_acc: 0.8580 - 21s/epoch - 214ms/step\n",
            "Epoch 19/30\n",
            "100/100 - 21s - loss: 0.2909 - acc: 0.8740 - val_loss: 0.2635 - val_acc: 0.8940 - 21s/epoch - 210ms/step\n",
            "Epoch 20/30\n",
            "100/100 - 23s - loss: 0.2809 - acc: 0.8745 - val_loss: 0.3196 - val_acc: 0.8720 - 23s/epoch - 234ms/step\n",
            "Epoch 21/30\n",
            "100/100 - 21s - loss: 0.2905 - acc: 0.8790 - val_loss: 0.2460 - val_acc: 0.9020 - 21s/epoch - 214ms/step\n",
            "Epoch 22/30\n",
            "100/100 - 21s - loss: 0.2724 - acc: 0.8850 - val_loss: 0.2563 - val_acc: 0.8960 - 21s/epoch - 214ms/step\n",
            "Epoch 23/30\n",
            "100/100 - 24s - loss: 0.2650 - acc: 0.8895 - val_loss: 0.2537 - val_acc: 0.9020 - 24s/epoch - 235ms/step\n",
            "Epoch 24/30\n",
            "100/100 - 21s - loss: 0.2727 - acc: 0.8830 - val_loss: 0.2841 - val_acc: 0.8870 - 21s/epoch - 212ms/step\n",
            "Epoch 25/30\n",
            "100/100 - 21s - loss: 0.2776 - acc: 0.8825 - val_loss: 0.2904 - val_acc: 0.8800 - 21s/epoch - 211ms/step\n",
            "Epoch 26/30\n",
            "100/100 - 21s - loss: 0.2713 - acc: 0.8925 - val_loss: 0.2560 - val_acc: 0.9020 - 21s/epoch - 211ms/step\n",
            "Epoch 27/30\n",
            "100/100 - 21s - loss: 0.2644 - acc: 0.8875 - val_loss: 0.2554 - val_acc: 0.8920 - 21s/epoch - 213ms/step\n",
            "Epoch 28/30\n",
            "100/100 - 22s - loss: 0.2670 - acc: 0.8930 - val_loss: 0.2568 - val_acc: 0.8930 - 22s/epoch - 225ms/step\n",
            "Epoch 29/30\n",
            "100/100 - 21s - loss: 0.2474 - acc: 0.8960 - val_loss: 0.2746 - val_acc: 0.8940 - 21s/epoch - 209ms/step\n",
            "Epoch 30/30\n",
            "100/100 - 21s - loss: 0.2602 - acc: 0.8865 - val_loss: 0.2506 - val_acc: 0.9030 - 21s/epoch - 210ms/step\n"
          ]
        }
      ],
      "source": [
        "history = model.fit_generator(\n",
        "      train_generator,\n",
        "      steps_per_epoch=100,\n",
        "      epochs=30,\n",
        "      validation_data=validation_generator,\n",
        "      validation_steps=50,\n",
        "      verbose=2)\n",
        "\n",
        "# history = model.fit(\n",
        "#       train_features,\n",
        "#       train_labels,\n",
        "#       steps_per_epoch=100,\n",
        "#       epochs=30,\n",
        "#       validation_data=(validation_features, validation_labels),\n",
        "#       validation_steps=50,\n",
        "#       batch_size=20)"
      ]
    },
    {
      "cell_type": "markdown",
      "metadata": {
        "id": "7Whwxe5nWeUE"
      },
      "source": [
        "Ex. 3.1 Analyse the conv_base.summary().\n",
        "\n",
        "We will fine-tune the last 3 convolutional layers, which means that all layers up until block4_pool should be frozen, and the layers block5_conv1, block5_conv2 and block5_conv3 should be trainable. Why not fine-tune more layers? Why not fine-tune the entire convolutional base? We could. However, we need to consider that:\n",
        "\n",
        "* Earlier layers in the convolutional base encode more generic, reusable features, while layers higher up encode more specialized features. It is more useful to fine-tune the more specializedfeatures, as these are the ones that need to be repurposed on our new problem. There would be fast-decreasing returns in fine-tuning lower layers.\n",
        "* The more parameters we are training, the more we are at risk of overfitting. The convolutional base has 15M parameters, so it would be risky to attempt to train it on our small dataset.\n",
        "\n",
        "\n",
        "Thus, in our situation, it is a good strategy to only fine-tune the top 2 to 3 layers in the convolutional base.\n",
        "\n",
        "Let's set this up, starting from where we left off in the previous example:"
      ]
    },
    {
      "cell_type": "code",
      "execution_count": 30,
      "metadata": {
        "id": "MfpHKn5xWeUE"
      },
      "outputs": [],
      "source": [
        "conv_base.trainable = True\n",
        "\n",
        "set_trainable = False\n",
        "for layer in conv_base.layers:\n",
        "    if layer.name == 'block5_conv1':\n",
        "        set_trainable = True\n",
        "    if set_trainable:\n",
        "        layer.trainable = True\n",
        "    else:\n",
        "        layer.trainable = False"
      ]
    },
    {
      "cell_type": "markdown",
      "metadata": {
        "id": "DE_kUKoTWeUF"
      },
      "source": [
        "Now we can start fine-tuning our network. We will do this with the RMSprop optimizer, using a very low learning rate. The reason for using a low learning rate is that we want to limit the magnitude of the modifications we make to the representations of the 3 layers that we are fine-tuning. Updates that are too large may harm these representations.\n",
        "\n",
        "Now let's proceed with fine-tuning (like before read the model weights from model h5):"
      ]
    },
    {
      "cell_type": "code",
      "execution_count": 31,
      "metadata": {
        "colab": {
          "base_uri": "https://localhost:8080/"
        },
        "id": "r3-OlFfNWeUF",
        "outputId": "42d8f2a5-5e7c-4e51-cd6a-54d1cea6f1b9"
      },
      "outputs": [
        {
          "name": "stderr",
          "output_type": "stream",
          "text": [
            "WARNING:absl:`lr` is deprecated in Keras optimizer, please use `learning_rate` or use the legacy optimizer, e.g.,tf.keras.optimizers.legacy.RMSprop.\n",
            "<ipython-input-31-0ef542032131>:5: UserWarning: `Model.fit_generator` is deprecated and will be removed in a future version. Please use `Model.fit`, which supports generators.\n",
            "  history = model.fit_generator(\n"
          ]
        },
        {
          "name": "stdout",
          "output_type": "stream",
          "text": [
            "Epoch 1/100\n",
            "100/100 [==============================] - 28s 225ms/step - loss: 27.9430 - acc: 0.5080 - val_loss: 0.6944 - val_acc: 0.5150\n",
            "Epoch 2/100\n",
            "100/100 [==============================] - 23s 226ms/step - loss: 0.8124 - acc: 0.6085 - val_loss: 0.3796 - val_acc: 0.8340\n",
            "Epoch 3/100\n",
            "100/100 [==============================] - 23s 232ms/step - loss: 0.5392 - acc: 0.7620 - val_loss: 0.3132 - val_acc: 0.8850\n",
            "Epoch 4/100\n",
            "100/100 [==============================] - 25s 255ms/step - loss: 0.4961 - acc: 0.8250 - val_loss: 0.2477 - val_acc: 0.8980\n",
            "Epoch 5/100\n",
            "100/100 [==============================] - 23s 231ms/step - loss: 0.3714 - acc: 0.8465 - val_loss: 0.2338 - val_acc: 0.9050\n",
            "Epoch 6/100\n",
            "100/100 [==============================] - 23s 233ms/step - loss: 0.3469 - acc: 0.8665 - val_loss: 0.2448 - val_acc: 0.9060\n",
            "Epoch 7/100\n",
            "100/100 [==============================] - 22s 224ms/step - loss: 0.3358 - acc: 0.8830 - val_loss: 0.1944 - val_acc: 0.9180\n",
            "Epoch 8/100\n",
            "100/100 [==============================] - 25s 252ms/step - loss: 0.2832 - acc: 0.8860 - val_loss: 0.2533 - val_acc: 0.9140\n",
            "Epoch 9/100\n",
            "100/100 [==============================] - 22s 222ms/step - loss: 0.3044 - acc: 0.8860 - val_loss: 0.1730 - val_acc: 0.9280\n",
            "Epoch 10/100\n",
            "100/100 [==============================] - 23s 231ms/step - loss: 0.2897 - acc: 0.8920 - val_loss: 0.2008 - val_acc: 0.9240\n",
            "Epoch 11/100\n",
            "100/100 [==============================] - 23s 234ms/step - loss: 0.2890 - acc: 0.8960 - val_loss: 0.1591 - val_acc: 0.9450\n",
            "Epoch 12/100\n",
            "100/100 [==============================] - 22s 223ms/step - loss: 0.2458 - acc: 0.9145 - val_loss: 0.2543 - val_acc: 0.9210\n",
            "Epoch 13/100\n",
            "100/100 [==============================] - 25s 252ms/step - loss: 0.2550 - acc: 0.9065 - val_loss: 0.2403 - val_acc: 0.9270\n",
            "Epoch 14/100\n",
            "100/100 [==============================] - 22s 223ms/step - loss: 0.2431 - acc: 0.9110 - val_loss: 0.1784 - val_acc: 0.9260\n",
            "Epoch 15/100\n",
            "100/100 [==============================] - 23s 233ms/step - loss: 0.2395 - acc: 0.9130 - val_loss: 0.2134 - val_acc: 0.9390\n",
            "Epoch 16/100\n",
            "100/100 [==============================] - 22s 223ms/step - loss: 0.2387 - acc: 0.9150 - val_loss: 0.1797 - val_acc: 0.9250\n",
            "Epoch 17/100\n",
            "100/100 [==============================] - 25s 254ms/step - loss: 0.2242 - acc: 0.9175 - val_loss: 0.3832 - val_acc: 0.9180\n",
            "Epoch 18/100\n",
            "100/100 [==============================] - 22s 225ms/step - loss: 0.2173 - acc: 0.9155 - val_loss: 0.2259 - val_acc: 0.9380\n",
            "Epoch 19/100\n",
            "100/100 [==============================] - 23s 229ms/step - loss: 0.2256 - acc: 0.9275 - val_loss: 0.1755 - val_acc: 0.9400\n",
            "Epoch 20/100\n",
            "100/100 [==============================] - 23s 234ms/step - loss: 0.1905 - acc: 0.9285 - val_loss: 0.2000 - val_acc: 0.9200\n",
            "Epoch 21/100\n",
            "100/100 [==============================] - 24s 245ms/step - loss: 0.1960 - acc: 0.9290 - val_loss: 0.1711 - val_acc: 0.9370\n",
            "Epoch 22/100\n",
            "100/100 [==============================] - 22s 223ms/step - loss: 0.2117 - acc: 0.9230 - val_loss: 0.3105 - val_acc: 0.9240\n",
            "Epoch 23/100\n",
            "100/100 [==============================] - 25s 249ms/step - loss: 0.1994 - acc: 0.9355 - val_loss: 0.1754 - val_acc: 0.9290\n",
            "Epoch 24/100\n",
            "100/100 [==============================] - 22s 222ms/step - loss: 0.1884 - acc: 0.9320 - val_loss: 0.3114 - val_acc: 0.9310\n",
            "Epoch 25/100\n",
            "100/100 [==============================] - 24s 243ms/step - loss: 0.1859 - acc: 0.9330 - val_loss: 0.2177 - val_acc: 0.9300\n",
            "Epoch 26/100\n",
            "100/100 [==============================] - 22s 222ms/step - loss: 0.1837 - acc: 0.9410 - val_loss: 0.2147 - val_acc: 0.9360\n",
            "Epoch 27/100\n",
            "100/100 [==============================] - 25s 248ms/step - loss: 0.1499 - acc: 0.9455 - val_loss: 0.2727 - val_acc: 0.9300\n",
            "Epoch 28/100\n",
            "100/100 [==============================] - 22s 225ms/step - loss: 0.1981 - acc: 0.9455 - val_loss: 0.4653 - val_acc: 0.9060\n",
            "Epoch 29/100\n",
            "100/100 [==============================] - 24s 237ms/step - loss: 0.2070 - acc: 0.9345 - val_loss: 0.2196 - val_acc: 0.9280\n",
            "Epoch 30/100\n",
            "100/100 [==============================] - 23s 229ms/step - loss: 0.1767 - acc: 0.9445 - val_loss: 0.2844 - val_acc: 0.9330\n",
            "Epoch 31/100\n",
            "100/100 [==============================] - 22s 223ms/step - loss: 0.1947 - acc: 0.9440 - val_loss: 0.1878 - val_acc: 0.9430\n",
            "Epoch 32/100\n",
            "100/100 [==============================] - 24s 238ms/step - loss: 0.1632 - acc: 0.9430 - val_loss: 0.2367 - val_acc: 0.9340\n",
            "Epoch 33/100\n",
            "100/100 [==============================] - 22s 225ms/step - loss: 0.1586 - acc: 0.9495 - val_loss: 0.2633 - val_acc: 0.9350\n",
            "Epoch 34/100\n",
            "100/100 [==============================] - 24s 237ms/step - loss: 0.1478 - acc: 0.9470 - val_loss: 0.3462 - val_acc: 0.9290\n",
            "Epoch 35/100\n",
            "100/100 [==============================] - 22s 223ms/step - loss: 0.2101 - acc: 0.9445 - val_loss: 0.2246 - val_acc: 0.9360\n",
            "Epoch 36/100\n",
            "100/100 [==============================] - 25s 245ms/step - loss: 0.1344 - acc: 0.9510 - val_loss: 0.3750 - val_acc: 0.9410\n",
            "Epoch 37/100\n",
            "100/100 [==============================] - 22s 224ms/step - loss: 0.1575 - acc: 0.9440 - val_loss: 0.2451 - val_acc: 0.9370\n",
            "Epoch 38/100\n",
            "100/100 [==============================] - 26s 258ms/step - loss: 0.1672 - acc: 0.9490 - val_loss: 0.3645 - val_acc: 0.9200\n",
            "Epoch 39/100\n",
            "100/100 [==============================] - 23s 226ms/step - loss: 0.1524 - acc: 0.9445 - val_loss: 0.3898 - val_acc: 0.9380\n",
            "Epoch 40/100\n",
            "100/100 [==============================] - 25s 253ms/step - loss: 0.1659 - acc: 0.9455 - val_loss: 0.2096 - val_acc: 0.9230\n",
            "Epoch 41/100\n",
            "100/100 [==============================] - 22s 224ms/step - loss: 0.1376 - acc: 0.9570 - val_loss: 0.2265 - val_acc: 0.9350\n",
            "Epoch 42/100\n",
            "100/100 [==============================] - 24s 237ms/step - loss: 0.1335 - acc: 0.9525 - val_loss: 0.2054 - val_acc: 0.9310\n",
            "Epoch 43/100\n",
            "100/100 [==============================] - 23s 226ms/step - loss: 0.1542 - acc: 0.9565 - val_loss: 0.3250 - val_acc: 0.9240\n",
            "Epoch 44/100\n",
            "100/100 [==============================] - 25s 246ms/step - loss: 0.1364 - acc: 0.9610 - val_loss: 0.2928 - val_acc: 0.9340\n",
            "Epoch 45/100\n",
            "100/100 [==============================] - 23s 227ms/step - loss: 0.1494 - acc: 0.9545 - val_loss: 0.3298 - val_acc: 0.9320\n",
            "Epoch 46/100\n",
            "100/100 [==============================] - 25s 254ms/step - loss: 0.1855 - acc: 0.9640 - val_loss: 0.2759 - val_acc: 0.9380\n",
            "Epoch 47/100\n",
            "100/100 [==============================] - 22s 223ms/step - loss: 0.1301 - acc: 0.9600 - val_loss: 1.2976 - val_acc: 0.9220\n",
            "Epoch 48/100\n",
            "100/100 [==============================] - 24s 245ms/step - loss: 0.1240 - acc: 0.9640 - val_loss: 0.3728 - val_acc: 0.9370\n",
            "Epoch 49/100\n",
            "100/100 [==============================] - 23s 226ms/step - loss: 0.1435 - acc: 0.9530 - val_loss: 0.4053 - val_acc: 0.9250\n",
            "Epoch 50/100\n",
            "100/100 [==============================] - 25s 254ms/step - loss: 0.1204 - acc: 0.9625 - val_loss: 0.5853 - val_acc: 0.9310\n",
            "Epoch 51/100\n",
            "100/100 [==============================] - 25s 246ms/step - loss: 0.1251 - acc: 0.9605 - val_loss: 0.2919 - val_acc: 0.9410\n",
            "Epoch 52/100\n",
            "100/100 [==============================] - 24s 239ms/step - loss: 0.1064 - acc: 0.9655 - val_loss: 0.2711 - val_acc: 0.9350\n",
            "Epoch 53/100\n",
            "100/100 [==============================] - 23s 225ms/step - loss: 0.1283 - acc: 0.9580 - val_loss: 0.3803 - val_acc: 0.9300\n",
            "Epoch 54/100\n",
            "100/100 [==============================] - 23s 225ms/step - loss: 0.1312 - acc: 0.9660 - val_loss: 0.4052 - val_acc: 0.9410\n",
            "Epoch 55/100\n",
            "100/100 [==============================] - 23s 228ms/step - loss: 0.1344 - acc: 0.9675 - val_loss: 0.2432 - val_acc: 0.9370\n",
            "Epoch 56/100\n",
            "100/100 [==============================] - 23s 226ms/step - loss: 0.1078 - acc: 0.9680 - val_loss: 0.4495 - val_acc: 0.9300\n",
            "Epoch 57/100\n",
            "100/100 [==============================] - 23s 224ms/step - loss: 0.1812 - acc: 0.9525 - val_loss: 1.1968 - val_acc: 0.8900\n",
            "Epoch 58/100\n",
            "100/100 [==============================] - 24s 243ms/step - loss: 0.1079 - acc: 0.9645 - val_loss: 0.4024 - val_acc: 0.9320\n",
            "Epoch 59/100\n",
            "100/100 [==============================] - 22s 221ms/step - loss: 0.1301 - acc: 0.9630 - val_loss: 0.2972 - val_acc: 0.9280\n",
            "Epoch 60/100\n",
            "100/100 [==============================] - 23s 228ms/step - loss: 0.1194 - acc: 0.9690 - val_loss: 0.3190 - val_acc: 0.9460\n",
            "Epoch 61/100\n",
            "100/100 [==============================] - 25s 247ms/step - loss: 0.1184 - acc: 0.9690 - val_loss: 1.1761 - val_acc: 0.8980\n",
            "Epoch 62/100\n",
            "100/100 [==============================] - 22s 221ms/step - loss: 0.1311 - acc: 0.9650 - val_loss: 0.7061 - val_acc: 0.9360\n",
            "Epoch 63/100\n",
            "100/100 [==============================] - 23s 233ms/step - loss: 0.1501 - acc: 0.9605 - val_loss: 0.4047 - val_acc: 0.9400\n",
            "Epoch 64/100\n",
            "100/100 [==============================] - 22s 222ms/step - loss: 0.1309 - acc: 0.9660 - val_loss: 0.2404 - val_acc: 0.9400\n",
            "Epoch 65/100\n",
            "100/100 [==============================] - 25s 248ms/step - loss: 0.1084 - acc: 0.9660 - val_loss: 0.4241 - val_acc: 0.9140\n",
            "Epoch 66/100\n",
            "100/100 [==============================] - 22s 220ms/step - loss: 0.0865 - acc: 0.9710 - val_loss: 0.6532 - val_acc: 0.9430\n",
            "Epoch 67/100\n",
            "100/100 [==============================] - 22s 222ms/step - loss: 0.1350 - acc: 0.9610 - val_loss: 0.6704 - val_acc: 0.9470\n",
            "Epoch 68/100\n",
            "100/100 [==============================] - 23s 234ms/step - loss: 0.1308 - acc: 0.9735 - val_loss: 0.3323 - val_acc: 0.9360\n",
            "Epoch 69/100\n",
            "100/100 [==============================] - 24s 239ms/step - loss: 0.1547 - acc: 0.9660 - val_loss: 0.3339 - val_acc: 0.9430\n",
            "Epoch 70/100\n",
            "100/100 [==============================] - 22s 220ms/step - loss: 0.0967 - acc: 0.9700 - val_loss: 0.3787 - val_acc: 0.9170\n",
            "Epoch 71/100\n",
            "100/100 [==============================] - 22s 218ms/step - loss: 0.1210 - acc: 0.9635 - val_loss: 0.3841 - val_acc: 0.9390\n",
            "Epoch 72/100\n",
            "100/100 [==============================] - 24s 242ms/step - loss: 0.0968 - acc: 0.9700 - val_loss: 0.5688 - val_acc: 0.9390\n",
            "Epoch 73/100\n",
            "100/100 [==============================] - 22s 219ms/step - loss: 0.1378 - acc: 0.9685 - val_loss: 0.2113 - val_acc: 0.9250\n",
            "Epoch 74/100\n",
            "100/100 [==============================] - 24s 241ms/step - loss: 0.1091 - acc: 0.9720 - val_loss: 0.7097 - val_acc: 0.9150\n",
            "Epoch 75/100\n",
            "100/100 [==============================] - 22s 220ms/step - loss: 0.1115 - acc: 0.9685 - val_loss: 0.3618 - val_acc: 0.9360\n",
            "Epoch 76/100\n",
            "100/100 [==============================] - 22s 217ms/step - loss: 0.0778 - acc: 0.9730 - val_loss: 1.1079 - val_acc: 0.9100\n",
            "Epoch 77/100\n",
            "100/100 [==============================] - 23s 231ms/step - loss: 0.1266 - acc: 0.9720 - val_loss: 0.5618 - val_acc: 0.9120\n",
            "Epoch 78/100\n",
            "100/100 [==============================] - 24s 242ms/step - loss: 0.1209 - acc: 0.9710 - val_loss: 0.6072 - val_acc: 0.9260\n",
            "Epoch 79/100\n",
            "100/100 [==============================] - 22s 223ms/step - loss: 0.1330 - acc: 0.9650 - val_loss: 0.6995 - val_acc: 0.9250\n",
            "Epoch 80/100\n",
            "100/100 [==============================] - 22s 219ms/step - loss: 0.1356 - acc: 0.9610 - val_loss: 0.4556 - val_acc: 0.9310\n",
            "Epoch 81/100\n",
            "100/100 [==============================] - 22s 220ms/step - loss: 0.1049 - acc: 0.9740 - val_loss: 0.3555 - val_acc: 0.9330\n",
            "Epoch 82/100\n",
            "100/100 [==============================] - 22s 224ms/step - loss: 0.0974 - acc: 0.9680 - val_loss: 0.4901 - val_acc: 0.9420\n",
            "Epoch 83/100\n",
            "100/100 [==============================] - 22s 217ms/step - loss: 0.1814 - acc: 0.9675 - val_loss: 0.5967 - val_acc: 0.9340\n",
            "Epoch 84/100\n",
            "100/100 [==============================] - 24s 245ms/step - loss: 0.1248 - acc: 0.9600 - val_loss: 1.3032 - val_acc: 0.8860\n",
            "Epoch 85/100\n",
            "100/100 [==============================] - 22s 221ms/step - loss: 0.1083 - acc: 0.9640 - val_loss: 0.9608 - val_acc: 0.9340\n",
            "Epoch 86/100\n",
            "100/100 [==============================] - 23s 233ms/step - loss: 0.1041 - acc: 0.9725 - val_loss: 0.3624 - val_acc: 0.9370\n",
            "Epoch 87/100\n",
            "100/100 [==============================] - 22s 221ms/step - loss: 0.0869 - acc: 0.9690 - val_loss: 0.8975 - val_acc: 0.9340\n",
            "Epoch 88/100\n",
            "100/100 [==============================] - 22s 220ms/step - loss: 0.1026 - acc: 0.9745 - val_loss: 0.5764 - val_acc: 0.9450\n",
            "Epoch 89/100\n",
            "100/100 [==============================] - 24s 242ms/step - loss: 0.0875 - acc: 0.9680 - val_loss: 0.7788 - val_acc: 0.9410\n",
            "Epoch 90/100\n",
            "100/100 [==============================] - 22s 223ms/step - loss: 0.1581 - acc: 0.9695 - val_loss: 0.4485 - val_acc: 0.9390\n",
            "Epoch 91/100\n",
            "100/100 [==============================] - 22s 223ms/step - loss: 0.1046 - acc: 0.9690 - val_loss: 0.7515 - val_acc: 0.9300\n",
            "Epoch 92/100\n",
            "100/100 [==============================] - 24s 235ms/step - loss: 0.1451 - acc: 0.9590 - val_loss: 0.9476 - val_acc: 0.9240\n",
            "Epoch 93/100\n",
            "100/100 [==============================] - 22s 219ms/step - loss: 0.1662 - acc: 0.9670 - val_loss: 0.4683 - val_acc: 0.9330\n",
            "Epoch 94/100\n",
            "100/100 [==============================] - 23s 232ms/step - loss: 0.1109 - acc: 0.9690 - val_loss: 0.4086 - val_acc: 0.9410\n",
            "Epoch 95/100\n",
            "100/100 [==============================] - 22s 218ms/step - loss: 0.1023 - acc: 0.9815 - val_loss: 0.5552 - val_acc: 0.9300\n",
            "Epoch 96/100\n",
            "100/100 [==============================] - 22s 220ms/step - loss: 0.1501 - acc: 0.9730 - val_loss: 0.4087 - val_acc: 0.9150\n",
            "Epoch 97/100\n",
            "100/100 [==============================] - 24s 234ms/step - loss: 0.0997 - acc: 0.9705 - val_loss: 0.4866 - val_acc: 0.9420\n",
            "Epoch 98/100\n",
            "100/100 [==============================] - 24s 241ms/step - loss: 0.1087 - acc: 0.9660 - val_loss: 0.6633 - val_acc: 0.9400\n",
            "Epoch 99/100\n",
            "100/100 [==============================] - 22s 220ms/step - loss: 0.1692 - acc: 0.9680 - val_loss: 0.2464 - val_acc: 0.9250\n",
            "Epoch 100/100\n",
            "100/100 [==============================] - 22s 222ms/step - loss: 0.1051 - acc: 0.9725 - val_loss: 0.5428 - val_acc: 0.9400\n"
          ]
        }
      ],
      "source": [
        "model.compile(loss='binary_crossentropy',\n",
        "              optimizer=keras.optimizers.RMSprop(lr=1e-5),\n",
        "              metrics=['acc'])\n",
        "\n",
        "history = model.fit_generator(\n",
        "      train_generator,\n",
        "      steps_per_epoch=100,\n",
        "      epochs=100,\n",
        "      validation_data=validation_generator,\n",
        "      validation_steps=50)"
      ]
    },
    {
      "cell_type": "code",
      "execution_count": 40,
      "metadata": {
        "id": "N5AkENSr7a9Y"
      },
      "outputs": [],
      "source": [
        "history_dict = history.history\n",
        "acc = history_dict['acc']\n",
        "val_acc = history_dict['val_acc']\n",
        "loss = history_dict['loss']\n",
        "val_loss = history_dict['val_loss']\n",
        "epochs = np.arange(1, len(acc) + 1)"
      ]
    },
    {
      "cell_type": "markdown",
      "metadata": {
        "id": "LKVg1P7wWeUF"
      },
      "source": [
        "Ex. 3.2 Plot your results using the same plotting code as before. Smooth the curves/plots using following code:"
      ]
    },
    {
      "cell_type": "code",
      "execution_count": 41,
      "metadata": {
        "colab": {
          "base_uri": "https://localhost:8080/",
          "height": 887
        },
        "id": "lu3IS3X5WeUF",
        "outputId": "69e43b4b-ef71-4b55-c7f2-298625ace956"
      },
      "outputs": [
        {
          "data": {
            "image/png": "[encoded data removed]",
            "text/plain": [
              "<Figure size 640x480 with 1 Axes>"
            ]
          },
          "metadata": {},
          "output_type": "display_data"
        },
        {
          "data": {
            "image/png": "[encoded data removed]",
            "text/plain": [
              "<Figure size 640x480 with 1 Axes>"
            ]
          },
          "metadata": {},
          "output_type": "display_data"
        }
      ],
      "source": [
        "def smooth_curve(points, factor=0.8):\n",
        "  smoothed_points = []\n",
        "  for point in points:\n",
        "    if smoothed_points:\n",
        "      previous = smoothed_points[-1]\n",
        "      smoothed_points.append(previous * factor + point * (1 - factor))\n",
        "    else:\n",
        "      smoothed_points.append(point)\n",
        "  return smoothed_points\n",
        "\n",
        "plt.plot(epochs,\n",
        "         smooth_curve(acc), 'bo', label='Smoothed training acc')\n",
        "plt.plot(epochs,\n",
        "         smooth_curve(val_acc), 'b', label='Smoothed validation acc')\n",
        "plt.title('Training and validation accuracy')\n",
        "plt.legend()\n",
        "\n",
        "plt.figure()\n",
        "\n",
        "plt.plot(epochs,\n",
        "         smooth_curve(loss), 'bo', label='Smoothed training loss')\n",
        "plt.plot(epochs,\n",
        "         smooth_curve(val_loss), 'b', label='Smoothed validation loss')\n",
        "plt.title('Training and validation loss')\n",
        "plt.legend()\n",
        "\n",
        "plt.show()"
      ]
    },
    {
      "cell_type": "markdown",
      "metadata": {
        "id": "6wQNyA3OWeUF"
      },
      "source": [
        "Ex. 3.3 Evaluate this model on the test data:"
      ]
    },
    {
      "cell_type": "code",
      "execution_count": 42,
      "metadata": {
        "colab": {
          "base_uri": "https://localhost:8080/"
        },
        "id": "wBrzwYKwWeUG",
        "outputId": "2053d44f-ecbe-4956-915a-865e95af2abb"
      },
      "outputs": [
        {
          "name": "stdout",
          "output_type": "stream",
          "text": [
            "Found 1000 images belonging to 2 classes.\n"
          ]
        },
        {
          "name": "stderr",
          "output_type": "stream",
          "text": [
            "<ipython-input-42-5f9a0322f4f1>:7: UserWarning: `Model.evaluate_generator` is deprecated and will be removed in a future version. Please use `Model.evaluate`, which supports generators.\n",
            "  test_loss, test_acc = model.evaluate_generator(test_generator, steps=50)\n"
          ]
        },
        {
          "name": "stdout",
          "output_type": "stream",
          "text": [
            "test acc: 0.9399999976158142\n"
          ]
        }
      ],
      "source": [
        "test_generator = test_datagen.flow_from_directory(\n",
        "        test_dir,\n",
        "        target_size=(150, 150),\n",
        "        batch_size=20,\n",
        "        class_mode='binary')\n",
        "\n",
        "test_loss, test_acc = model.evaluate_generator(test_generator, steps=50)\n",
        "print('test acc:', test_acc)"
      ]
    },
    {
      "cell_type": "markdown",
      "metadata": {
        "id": "zwJtBG93WeUG"
      },
      "source": [
        "test acc: 0.96799999237\n",
        "\n",
        "Here we got a test accuracy of 97%. In the original Kaggle competition around this dataset, this would have been one of the top results. However, using modern deep learning techniques, we managed to reach this result using only a very small fraction of the training data available (about 10%). There is a huge difference between being able to train on 20,000 samples compared to 2,000 samples!"
      ]
    }
  ],
  "metadata": {
    "accelerator": "GPU",
    "colab": {
      "gpuType": "T4",
      "provenance": []
    },
    "kernelspec": {
      "display_name": "Python 3",
      "name": "python3"
    },
    "language_info": {
      "codemirror_mode": {
        "name": "ipython",
        "version": 3
      },
      "file_extension": ".py",
      "mimetype": "text/x-python",
      "name": "python",
      "nbconvert_exporter": "python",
      "pygments_lexer": "ipython3",
      "version": "3.11.3"
    }
  },
  "nbformat": 4,
  "nbformat_minor": 0
}
