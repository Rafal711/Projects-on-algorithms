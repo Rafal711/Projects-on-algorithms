{
  "cells": [
    {
      "cell_type": "markdown",
      "id": "1d531cbe",
      "metadata": {
        "id": "1d531cbe"
      },
      "source": [
        "### Import libraries"
      ]
    },
    {
      "cell_type": "code",
      "execution_count": 1,
      "id": "dae0fdb7",
      "metadata": {
        "id": "dae0fdb7"
      },
      "outputs": [],
      "source": [
        "import matplotlib\n",
        "import numpy as np\n",
        "import matplotlib.pyplot as plt\n",
        "from tensorflow import keras\n",
        "import keras"
      ]
    },
    {
      "cell_type": "markdown",
      "id": "e54b2b34",
      "metadata": {
        "id": "e54b2b34"
      },
      "source": [
        "### Import MNIST dataset"
      ]
    },
    {
      "cell_type": "code",
      "execution_count": 2,
      "id": "2dd7923f",
      "metadata": {
        "colab": {
          "base_uri": "https://localhost:8080/"
        },
        "id": "2dd7923f",
        "outputId": "afcdfafa-7f3d-4d45-c539-9c6068cd089a"
      },
      "outputs": [
        {
          "output_type": "stream",
          "name": "stdout",
          "text": [
            "Downloading data from https://storage.googleapis.com/tensorflow/tf-keras-datasets/mnist.npz\n",
            "11490434/11490434 [==============================] - 0s 0us/step\n",
            "Number of training examples: 60000\n",
            "Number of testing examples: 10000\n",
            "Number of train labels: 60000\n",
            "Number of test labels: 10000\n"
          ]
        }
      ],
      "source": [
        "from keras.datasets import mnist\n",
        "(train_images, train_labels), (test_images, test_labels) = mnist.load_data()\n",
        "\n",
        "print(\"Number of training examples:\", train_images.shape[0])\n",
        "print(\"Number of testing examples:\", test_images.shape[0])\n",
        "\n",
        "print(\"Number of train labels:\", train_labels.shape[0])\n",
        "print(\"Number of test labels:\", test_labels.shape[0])"
      ]
    },
    {
      "cell_type": "code",
      "execution_count": 3,
      "id": "7fd19111",
      "metadata": {
        "colab": {
          "base_uri": "https://localhost:8080/"
        },
        "id": "7fd19111",
        "outputId": "8020a297-cb94-4427-8cc2-69039fbe655e"
      },
      "outputs": [
        {
          "output_type": "stream",
          "name": "stdout",
          "text": [
            "Training set image size: (28, 28)\n",
            "Testing set image size: (28, 28)\n"
          ]
        }
      ],
      "source": [
        "print(\"Training set image size:\", train_images.shape[1:])\n",
        "print(\"Testing set image size:\", test_images.shape[1:])"
      ]
    },
    {
      "cell_type": "code",
      "execution_count": 4,
      "id": "38b51fef",
      "metadata": {
        "colab": {
          "base_uri": "https://localhost:8080/",
          "height": 639
        },
        "id": "38b51fef",
        "outputId": "87cb0499-c538-4afd-c458-18d0a87c91dd"
      },
      "outputs": [
        {
          "output_type": "execute_result",
          "data": {
            "text/plain": [
              "Text(0.5, 1.0, 'test img: 0')"
            ]
          },
          "metadata": {},
          "execution_count": 4
        },
        {
          "output_type": "display_data",
          "data": {
            "text/plain": [
              "<Figure size 700x700 with 4 Axes>"
            ],
            "image/png": "[encoded data removed]"
          },
          "metadata": {}
        }
      ],
      "source": [
        "fig, ax = plt.subplots(2, 2,figsize=(7, 7))\n",
        "ax[0][0].imshow(train_images[0], cmap='gray', vmin=0, vmax=255)\n",
        "ax[0][0].set_title(\"train img: 0\")\n",
        "ax[0][1].imshow(train_images[1], cmap='gray', vmin=0, vmax=255)\n",
        "ax[0][1].set_title(\"train img: 1\")\n",
        "\n",
        "ax[1][0].imshow(test_images[0], cmap='gray', vmin=0, vmax=255)\n",
        "ax[1][0].set_title(\"test img: 0\")\n",
        "ax[1][1].imshow(test_images[1], cmap='gray', vmin=0, vmax=255)\n",
        "ax[1][1].set_title(\"test img: 0\")\n"
      ]
    },
    {
      "cell_type": "markdown",
      "id": "50dbe97d",
      "metadata": {
        "id": "50dbe97d"
      },
      "source": [
        "### Set network architecture"
      ]
    },
    {
      "cell_type": "code",
      "execution_count": 5,
      "id": "cd5223f7",
      "metadata": {
        "id": "cd5223f7"
      },
      "outputs": [],
      "source": [
        "from keras import models\n",
        "from keras import layers\n",
        "\n",
        "network = models.Sequential()\n",
        "network.add(layers.Dense(512, activation='relu', input_shape=(28 * 28,)))\n",
        "network.add(layers.Dense(10, activation='softmax'))"
      ]
    },
    {
      "cell_type": "markdown",
      "id": "101cdfaa",
      "metadata": {
        "id": "101cdfaa"
      },
      "source": [
        "### Network training configuration"
      ]
    },
    {
      "cell_type": "code",
      "execution_count": 6,
      "id": "a0c5c9e8",
      "metadata": {
        "id": "a0c5c9e8"
      },
      "outputs": [],
      "source": [
        "network.compile(optimizer='rmsprop',\n",
        "                loss='categorical_crossentropy',\n",
        "                metrics=['accuracy'])"
      ]
    },
    {
      "cell_type": "markdown",
      "id": "3e26c7f2",
      "metadata": {
        "id": "3e26c7f2"
      },
      "source": [
        "### Data preparation"
      ]
    },
    {
      "cell_type": "code",
      "execution_count": 7,
      "id": "6d78aa05",
      "metadata": {
        "colab": {
          "base_uri": "https://localhost:8080/"
        },
        "id": "6d78aa05",
        "outputId": "70fb8b5d-1438-4e53-e64f-6744f7a67660"
      },
      "outputs": [
        {
          "output_type": "stream",
          "name": "stdout",
          "text": [
            "train_images_p shape: (60000, 784)\n",
            "min and max value: 0.0 1.0\n"
          ]
        }
      ],
      "source": [
        "train_images_p = train_images.reshape(60000, 28 * 28).astype(\"float32\")\n",
        "print(\"train_images_p shape:\", train_images_p.shape)\n",
        "train_images_p = train_images_p / 255\n",
        "print(\"min and max value:\", np.min(train_images_p), np.max(train_images_p))"
      ]
    },
    {
      "cell_type": "code",
      "execution_count": 8,
      "id": "1a11b735",
      "metadata": {
        "colab": {
          "base_uri": "https://localhost:8080/"
        },
        "id": "1a11b735",
        "outputId": "6dc3114b-bf4b-47bf-bdeb-21fb705213aa"
      },
      "outputs": [
        {
          "output_type": "stream",
          "name": "stdout",
          "text": [
            "train_images_p shape: (10000, 784)\n",
            "min and max value: 0.0 1.0\n"
          ]
        }
      ],
      "source": [
        "test_images_p = test_images.reshape(10000, 28 * 28).astype(\"float32\")\n",
        "print(\"train_images_p shape:\", test_images_p.shape)\n",
        "test_images_p = test_images_p / 255\n",
        "print(\"min and max value:\", np.min(train_images_p), np.max(train_images_p))"
      ]
    },
    {
      "cell_type": "code",
      "execution_count": 9,
      "id": "6adf2c94",
      "metadata": {
        "id": "6adf2c94"
      },
      "outputs": [],
      "source": [
        "from keras.utils import to_categorical\n",
        "\n",
        "train_labels = to_categorical(train_labels)\n",
        "test_labels = to_categorical(test_labels)"
      ]
    },
    {
      "cell_type": "markdown",
      "id": "4f48513f",
      "metadata": {
        "id": "4f48513f"
      },
      "source": [
        "### Model fit"
      ]
    },
    {
      "cell_type": "code",
      "execution_count": 11,
      "id": "916a483a",
      "metadata": {
        "colab": {
          "base_uri": "https://localhost:8080/"
        },
        "id": "916a483a",
        "outputId": "88ad393f-9704-464f-c916-117ff565169d"
      },
      "outputs": [
        {
          "output_type": "stream",
          "name": "stdout",
          "text": [
            "Epoch 1/5\n",
            "469/469 [==============================] - 6s 12ms/step - loss: 0.2655 - accuracy: 0.9244\n",
            "Epoch 2/5\n",
            "469/469 [==============================] - 5s 12ms/step - loss: 0.1088 - accuracy: 0.9680\n",
            "Epoch 3/5\n",
            "469/469 [==============================] - 4s 9ms/step - loss: 0.0701 - accuracy: 0.9788\n",
            "Epoch 4/5\n",
            "469/469 [==============================] - 4s 9ms/step - loss: 0.0516 - accuracy: 0.9843\n",
            "Epoch 5/5\n",
            "469/469 [==============================] - 5s 12ms/step - loss: 0.0380 - accuracy: 0.9886\n"
          ]
        },
        {
          "output_type": "execute_result",
          "data": {
            "text/plain": [
              "<keras.src.callbacks.History at 0x7d2658c7ace0>"
            ]
          },
          "metadata": {},
          "execution_count": 11
        }
      ],
      "source": [
        "network.fit(\n",
        "    x=train_images_p,\n",
        "    y=train_labels,\n",
        "    batch_size=128,\n",
        "    epochs=5\n",
        ")\n"
      ]
    },
    {
      "cell_type": "markdown",
      "id": "a1d7824d",
      "metadata": {
        "id": "a1d7824d"
      },
      "source": [
        "### Network evaluation"
      ]
    },
    {
      "cell_type": "code",
      "execution_count": 13,
      "id": "441ad5a0",
      "metadata": {
        "colab": {
          "base_uri": "https://localhost:8080/"
        },
        "id": "441ad5a0",
        "outputId": "f81e1a7d-cf6a-46bd-dd4c-3cf3c40cb0cb"
      },
      "outputs": [
        {
          "output_type": "stream",
          "name": "stdout",
          "text": [
            "313/313 [==============================] - 1s 3ms/step - loss: 0.0625 - accuracy: 0.9800\n",
            "test_acc: 0.9800000190734863\n"
          ]
        }
      ],
      "source": [
        "test_loss, test_acc = network.evaluate(test_images_p, test_labels)\n",
        "\n",
        "print('test_acc:', test_acc)"
      ]
    }
  ],
  "metadata": {
    "kernelspec": {
      "display_name": "Python 3",
      "name": "python3"
    },
    "language_info": {
      "codemirror_mode": {
        "name": "ipython",
        "version": 3
      },
      "file_extension": ".py",
      "mimetype": "text/x-python",
      "name": "python",
      "nbconvert_exporter": "python",
      "pygments_lexer": "ipython3",
      "version": "3.10.9"
    },
    "colab": {
      "provenance": [],
      "toc_visible": true
    }
  },
  "nbformat": 4,
  "nbformat_minor": 5
}